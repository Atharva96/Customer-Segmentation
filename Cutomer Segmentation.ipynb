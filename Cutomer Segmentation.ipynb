{
 "cells": [
  {
   "cell_type": "code",
   "execution_count": 1,
   "metadata": {},
   "outputs": [],
   "source": [
    "#for data processing\n",
    "import numpy as np \n",
    "import pandas as pd\n",
    "\n",
    "#for visualization\n",
    "import seaborn as sns\n",
    "import matplotlib.pyplot as plt\n",
    "%matplotlib inline\n",
    "\n",
    "import warnings\n",
    "warnings.filterwarnings(\"ignore\")"
   ]
  },
  {
   "cell_type": "code",
   "execution_count": 2,
   "metadata": {},
   "outputs": [],
   "source": [
    "train= pd.read_csv(\"C:/Users/Atharva Pathak/OneDrive/Desktop/NLP/Cutomer Segmentation/train.csv\")\n",
    "test= pd.read_csv(\"C:/Users/Atharva Pathak/OneDrive/Desktop/NLP/Cutomer Segmentation/test.csv\")"
   ]
  },
  {
   "cell_type": "code",
   "execution_count": 3,
   "metadata": {},
   "outputs": [
    {
     "data": {
      "text/html": [
       "<div>\n",
       "<style scoped>\n",
       "    .dataframe tbody tr th:only-of-type {\n",
       "        vertical-align: middle;\n",
       "    }\n",
       "\n",
       "    .dataframe tbody tr th {\n",
       "        vertical-align: top;\n",
       "    }\n",
       "\n",
       "    .dataframe thead th {\n",
       "        text-align: right;\n",
       "    }\n",
       "</style>\n",
       "<table border=\"1\" class=\"dataframe\">\n",
       "  <thead>\n",
       "    <tr style=\"text-align: right;\">\n",
       "      <th></th>\n",
       "      <th>ID</th>\n",
       "      <th>Gender</th>\n",
       "      <th>Ever_Married</th>\n",
       "      <th>Age</th>\n",
       "      <th>Graduated</th>\n",
       "      <th>Profession</th>\n",
       "      <th>Work_Experience</th>\n",
       "      <th>Spending_Score</th>\n",
       "      <th>Family_Size</th>\n",
       "      <th>Var_1</th>\n",
       "      <th>Segmentation</th>\n",
       "    </tr>\n",
       "  </thead>\n",
       "  <tbody>\n",
       "    <tr>\n",
       "      <th>0</th>\n",
       "      <td>462809</td>\n",
       "      <td>Male</td>\n",
       "      <td>No</td>\n",
       "      <td>22</td>\n",
       "      <td>No</td>\n",
       "      <td>Healthcare</td>\n",
       "      <td>1.0</td>\n",
       "      <td>Low</td>\n",
       "      <td>4.0</td>\n",
       "      <td>Cat_4</td>\n",
       "      <td>D</td>\n",
       "    </tr>\n",
       "    <tr>\n",
       "      <th>1</th>\n",
       "      <td>462643</td>\n",
       "      <td>Female</td>\n",
       "      <td>Yes</td>\n",
       "      <td>38</td>\n",
       "      <td>Yes</td>\n",
       "      <td>Engineer</td>\n",
       "      <td>NaN</td>\n",
       "      <td>Average</td>\n",
       "      <td>3.0</td>\n",
       "      <td>Cat_4</td>\n",
       "      <td>A</td>\n",
       "    </tr>\n",
       "  </tbody>\n",
       "</table>\n",
       "</div>"
      ],
      "text/plain": [
       "       ID  Gender Ever_Married  Age Graduated  Profession  Work_Experience  \\\n",
       "0  462809    Male           No   22        No  Healthcare              1.0   \n",
       "1  462643  Female          Yes   38       Yes    Engineer              NaN   \n",
       "\n",
       "  Spending_Score  Family_Size  Var_1 Segmentation  \n",
       "0            Low          4.0  Cat_4            D  \n",
       "1        Average          3.0  Cat_4            A  "
      ]
     },
     "execution_count": 3,
     "metadata": {},
     "output_type": "execute_result"
    }
   ],
   "source": [
    "train.head(2)"
   ]
  },
  {
   "cell_type": "code",
   "execution_count": 4,
   "metadata": {},
   "outputs": [
    {
     "data": {
      "text/html": [
       "<div>\n",
       "<style scoped>\n",
       "    .dataframe tbody tr th:only-of-type {\n",
       "        vertical-align: middle;\n",
       "    }\n",
       "\n",
       "    .dataframe tbody tr th {\n",
       "        vertical-align: top;\n",
       "    }\n",
       "\n",
       "    .dataframe thead th {\n",
       "        text-align: right;\n",
       "    }\n",
       "</style>\n",
       "<table border=\"1\" class=\"dataframe\">\n",
       "  <thead>\n",
       "    <tr style=\"text-align: right;\">\n",
       "      <th></th>\n",
       "      <th>ID</th>\n",
       "      <th>Gender</th>\n",
       "      <th>Ever_Married</th>\n",
       "      <th>Age</th>\n",
       "      <th>Graduated</th>\n",
       "      <th>Profession</th>\n",
       "      <th>Work_Experience</th>\n",
       "      <th>Spending_Score</th>\n",
       "      <th>Family_Size</th>\n",
       "      <th>Var_1</th>\n",
       "    </tr>\n",
       "  </thead>\n",
       "  <tbody>\n",
       "    <tr>\n",
       "      <th>0</th>\n",
       "      <td>458989</td>\n",
       "      <td>Female</td>\n",
       "      <td>Yes</td>\n",
       "      <td>36</td>\n",
       "      <td>Yes</td>\n",
       "      <td>Engineer</td>\n",
       "      <td>0.0</td>\n",
       "      <td>Low</td>\n",
       "      <td>1.0</td>\n",
       "      <td>Cat_6</td>\n",
       "    </tr>\n",
       "    <tr>\n",
       "      <th>1</th>\n",
       "      <td>458994</td>\n",
       "      <td>Male</td>\n",
       "      <td>Yes</td>\n",
       "      <td>37</td>\n",
       "      <td>Yes</td>\n",
       "      <td>Healthcare</td>\n",
       "      <td>8.0</td>\n",
       "      <td>Average</td>\n",
       "      <td>4.0</td>\n",
       "      <td>Cat_6</td>\n",
       "    </tr>\n",
       "  </tbody>\n",
       "</table>\n",
       "</div>"
      ],
      "text/plain": [
       "       ID  Gender Ever_Married  Age Graduated  Profession  Work_Experience  \\\n",
       "0  458989  Female          Yes   36       Yes    Engineer              0.0   \n",
       "1  458994    Male          Yes   37       Yes  Healthcare              8.0   \n",
       "\n",
       "  Spending_Score  Family_Size  Var_1  \n",
       "0            Low          1.0  Cat_6  \n",
       "1        Average          4.0  Cat_6  "
      ]
     },
     "execution_count": 4,
     "metadata": {},
     "output_type": "execute_result"
    }
   ],
   "source": [
    "test.head(2)"
   ]
  },
  {
   "cell_type": "code",
   "execution_count": 5,
   "metadata": {},
   "outputs": [],
   "source": [
    "train['train_y_n']=1\n",
    "test['train_y_n']=0\n",
    "all=pd.concat([train,test])"
   ]
  },
  {
   "cell_type": "code",
   "execution_count": 6,
   "metadata": {},
   "outputs": [
    {
     "data": {
      "text/html": [
       "<div>\n",
       "<style scoped>\n",
       "    .dataframe tbody tr th:only-of-type {\n",
       "        vertical-align: middle;\n",
       "    }\n",
       "\n",
       "    .dataframe tbody tr th {\n",
       "        vertical-align: top;\n",
       "    }\n",
       "\n",
       "    .dataframe thead th {\n",
       "        text-align: right;\n",
       "    }\n",
       "</style>\n",
       "<table border=\"1\" class=\"dataframe\">\n",
       "  <thead>\n",
       "    <tr style=\"text-align: right;\">\n",
       "      <th></th>\n",
       "      <th>ID</th>\n",
       "      <th>Gender</th>\n",
       "      <th>Ever_Married</th>\n",
       "      <th>Age</th>\n",
       "      <th>Graduated</th>\n",
       "      <th>Profession</th>\n",
       "      <th>Work_Experience</th>\n",
       "      <th>Spending_Score</th>\n",
       "      <th>Family_Size</th>\n",
       "      <th>Var_1</th>\n",
       "      <th>Segmentation</th>\n",
       "      <th>train_y_n</th>\n",
       "    </tr>\n",
       "  </thead>\n",
       "  <tbody>\n",
       "    <tr>\n",
       "      <th>0</th>\n",
       "      <td>462809</td>\n",
       "      <td>Male</td>\n",
       "      <td>No</td>\n",
       "      <td>22</td>\n",
       "      <td>No</td>\n",
       "      <td>Healthcare</td>\n",
       "      <td>1.0</td>\n",
       "      <td>Low</td>\n",
       "      <td>4.0</td>\n",
       "      <td>Cat_4</td>\n",
       "      <td>D</td>\n",
       "      <td>1</td>\n",
       "    </tr>\n",
       "    <tr>\n",
       "      <th>1</th>\n",
       "      <td>462643</td>\n",
       "      <td>Female</td>\n",
       "      <td>Yes</td>\n",
       "      <td>38</td>\n",
       "      <td>Yes</td>\n",
       "      <td>Engineer</td>\n",
       "      <td>NaN</td>\n",
       "      <td>Average</td>\n",
       "      <td>3.0</td>\n",
       "      <td>Cat_4</td>\n",
       "      <td>A</td>\n",
       "      <td>1</td>\n",
       "    </tr>\n",
       "    <tr>\n",
       "      <th>2</th>\n",
       "      <td>466315</td>\n",
       "      <td>Female</td>\n",
       "      <td>Yes</td>\n",
       "      <td>67</td>\n",
       "      <td>Yes</td>\n",
       "      <td>Engineer</td>\n",
       "      <td>1.0</td>\n",
       "      <td>Low</td>\n",
       "      <td>1.0</td>\n",
       "      <td>Cat_6</td>\n",
       "      <td>B</td>\n",
       "      <td>1</td>\n",
       "    </tr>\n",
       "    <tr>\n",
       "      <th>3</th>\n",
       "      <td>461735</td>\n",
       "      <td>Male</td>\n",
       "      <td>Yes</td>\n",
       "      <td>67</td>\n",
       "      <td>Yes</td>\n",
       "      <td>Lawyer</td>\n",
       "      <td>0.0</td>\n",
       "      <td>High</td>\n",
       "      <td>2.0</td>\n",
       "      <td>Cat_6</td>\n",
       "      <td>B</td>\n",
       "      <td>1</td>\n",
       "    </tr>\n",
       "    <tr>\n",
       "      <th>4</th>\n",
       "      <td>462669</td>\n",
       "      <td>Female</td>\n",
       "      <td>Yes</td>\n",
       "      <td>40</td>\n",
       "      <td>Yes</td>\n",
       "      <td>Entertainment</td>\n",
       "      <td>NaN</td>\n",
       "      <td>High</td>\n",
       "      <td>6.0</td>\n",
       "      <td>Cat_6</td>\n",
       "      <td>A</td>\n",
       "      <td>1</td>\n",
       "    </tr>\n",
       "  </tbody>\n",
       "</table>\n",
       "</div>"
      ],
      "text/plain": [
       "       ID  Gender Ever_Married  Age Graduated     Profession  Work_Experience  \\\n",
       "0  462809    Male           No   22        No     Healthcare              1.0   \n",
       "1  462643  Female          Yes   38       Yes       Engineer              NaN   \n",
       "2  466315  Female          Yes   67       Yes       Engineer              1.0   \n",
       "3  461735    Male          Yes   67       Yes         Lawyer              0.0   \n",
       "4  462669  Female          Yes   40       Yes  Entertainment              NaN   \n",
       "\n",
       "  Spending_Score  Family_Size  Var_1 Segmentation  train_y_n  \n",
       "0            Low          4.0  Cat_4            D          1  \n",
       "1        Average          3.0  Cat_4            A          1  \n",
       "2            Low          1.0  Cat_6            B          1  \n",
       "3           High          2.0  Cat_6            B          1  \n",
       "4           High          6.0  Cat_6            A          1  "
      ]
     },
     "execution_count": 6,
     "metadata": {},
     "output_type": "execute_result"
    }
   ],
   "source": [
    "all.head()"
   ]
  },
  {
   "cell_type": "code",
   "execution_count": 7,
   "metadata": {},
   "outputs": [
    {
     "data": {
      "text/plain": [
       "<AxesSubplot:>"
      ]
     },
     "execution_count": 7,
     "metadata": {},
     "output_type": "execute_result"
    },
    {
     "data": {
      "image/png": "[encoded data removed]",
      "text/plain": [
       "<Figure size 432x288 with 2 Axes>"
      ]
     },
     "metadata": {
      "needs_background": "light"
     },
     "output_type": "display_data"
    }
   ],
   "source": [
    "#Visualization to check for missing values\n",
    "sns.heatmap(all.isna())\n"
   ]
  },
  {
   "cell_type": "markdown",
   "metadata": {},
   "source": [
    "# EDA"
   ]
  },
  {
   "cell_type": "code",
   "execution_count": 8,
   "metadata": {},
   "outputs": [
    {
     "name": "stdout",
     "output_type": "stream",
     "text": [
      "<class 'pandas.core.frame.DataFrame'>\n",
      "Int64Index: 10695 entries, 0 to 2626\n",
      "Data columns (total 12 columns):\n",
      " #   Column           Non-Null Count  Dtype  \n",
      "---  ------           --------------  -----  \n",
      " 0   ID               10695 non-null  int64  \n",
      " 1   Gender           10695 non-null  object \n",
      " 2   Ever_Married     10505 non-null  object \n",
      " 3   Age              10695 non-null  int64  \n",
      " 4   Graduated        10593 non-null  object \n",
      " 5   Profession       10533 non-null  object \n",
      " 6   Work_Experience  9597 non-null   float64\n",
      " 7   Spending_Score   10695 non-null  object \n",
      " 8   Family_Size      10247 non-null  float64\n",
      " 9   Var_1            10587 non-null  object \n",
      " 10  Segmentation     8068 non-null   object \n",
      " 11  train_y_n        10695 non-null  int64  \n",
      "dtypes: float64(2), int64(3), object(7)\n",
      "memory usage: 1.1+ MB\n"
     ]
    }
   ],
   "source": [
    "all.info()"
   ]
  },
  {
   "cell_type": "code",
   "execution_count": 9,
   "metadata": {},
   "outputs": [
    {
     "data": {
      "text/html": [
       "<div>\n",
       "<style scoped>\n",
       "    .dataframe tbody tr th:only-of-type {\n",
       "        vertical-align: middle;\n",
       "    }\n",
       "\n",
       "    .dataframe tbody tr th {\n",
       "        vertical-align: top;\n",
       "    }\n",
       "\n",
       "    .dataframe thead th {\n",
       "        text-align: right;\n",
       "    }\n",
       "</style>\n",
       "<table border=\"1\" class=\"dataframe\">\n",
       "  <thead>\n",
       "    <tr style=\"text-align: right;\">\n",
       "      <th></th>\n",
       "      <th>ID</th>\n",
       "      <th>Age</th>\n",
       "      <th>Work_Experience</th>\n",
       "      <th>Family_Size</th>\n",
       "      <th>train_y_n</th>\n",
       "    </tr>\n",
       "  </thead>\n",
       "  <tbody>\n",
       "    <tr>\n",
       "      <th>count</th>\n",
       "      <td>10695.000000</td>\n",
       "      <td>10695.000000</td>\n",
       "      <td>9597.000000</td>\n",
       "      <td>10247.000000</td>\n",
       "      <td>10695.000000</td>\n",
       "    </tr>\n",
       "    <tr>\n",
       "      <th>mean</th>\n",
       "      <td>463468.088640</td>\n",
       "      <td>43.511828</td>\n",
       "      <td>2.619777</td>\n",
       "      <td>2.844052</td>\n",
       "      <td>0.754371</td>\n",
       "    </tr>\n",
       "    <tr>\n",
       "      <th>std</th>\n",
       "      <td>2600.966411</td>\n",
       "      <td>16.774158</td>\n",
       "      <td>3.390790</td>\n",
       "      <td>1.536427</td>\n",
       "      <td>0.430480</td>\n",
       "    </tr>\n",
       "    <tr>\n",
       "      <th>min</th>\n",
       "      <td>458982.000000</td>\n",
       "      <td>18.000000</td>\n",
       "      <td>0.000000</td>\n",
       "      <td>1.000000</td>\n",
       "      <td>0.000000</td>\n",
       "    </tr>\n",
       "    <tr>\n",
       "      <th>25%</th>\n",
       "      <td>461220.500000</td>\n",
       "      <td>30.000000</td>\n",
       "      <td>0.000000</td>\n",
       "      <td>2.000000</td>\n",
       "      <td>1.000000</td>\n",
       "    </tr>\n",
       "    <tr>\n",
       "      <th>50%</th>\n",
       "      <td>463451.000000</td>\n",
       "      <td>41.000000</td>\n",
       "      <td>1.000000</td>\n",
       "      <td>3.000000</td>\n",
       "      <td>1.000000</td>\n",
       "    </tr>\n",
       "    <tr>\n",
       "      <th>75%</th>\n",
       "      <td>465733.500000</td>\n",
       "      <td>53.000000</td>\n",
       "      <td>4.000000</td>\n",
       "      <td>4.000000</td>\n",
       "      <td>1.000000</td>\n",
       "    </tr>\n",
       "    <tr>\n",
       "      <th>max</th>\n",
       "      <td>467974.000000</td>\n",
       "      <td>89.000000</td>\n",
       "      <td>14.000000</td>\n",
       "      <td>9.000000</td>\n",
       "      <td>1.000000</td>\n",
       "    </tr>\n",
       "  </tbody>\n",
       "</table>\n",
       "</div>"
      ],
      "text/plain": [
       "                  ID           Age  Work_Experience   Family_Size  \\\n",
       "count   10695.000000  10695.000000      9597.000000  10247.000000   \n",
       "mean   463468.088640     43.511828         2.619777      2.844052   \n",
       "std      2600.966411     16.774158         3.390790      1.536427   \n",
       "min    458982.000000     18.000000         0.000000      1.000000   \n",
       "25%    461220.500000     30.000000         0.000000      2.000000   \n",
       "50%    463451.000000     41.000000         1.000000      3.000000   \n",
       "75%    465733.500000     53.000000         4.000000      4.000000   \n",
       "max    467974.000000     89.000000        14.000000      9.000000   \n",
       "\n",
       "          train_y_n  \n",
       "count  10695.000000  \n",
       "mean       0.754371  \n",
       "std        0.430480  \n",
       "min        0.000000  \n",
       "25%        1.000000  \n",
       "50%        1.000000  \n",
       "75%        1.000000  \n",
       "max        1.000000  "
      ]
     },
     "execution_count": 9,
     "metadata": {},
     "output_type": "execute_result"
    }
   ],
   "source": [
    "all.describe()"
   ]
  },
  {
   "cell_type": "code",
   "execution_count": 10,
   "metadata": {},
   "outputs": [
    {
     "data": {
      "text/plain": [
       "462826     True\n",
       "459581     True\n",
       "467769     True\n",
       "462512     True\n",
       "463663     True\n",
       "          ...  \n",
       "466719    False\n",
       "460580    False\n",
       "464678    False\n",
       "466727    False\n",
       "460801    False\n",
       "Name: ID, Length: 8363, dtype: bool"
      ]
     },
     "execution_count": 10,
     "metadata": {},
     "output_type": "execute_result"
    }
   ],
   "source": [
    "#ID\n",
    "all['ID'].value_counts()>1"
   ]
  },
  {
   "cell_type": "code",
   "execution_count": 11,
   "metadata": {},
   "outputs": [
    {
     "data": {
      "text/plain": [
       "2332"
      ]
     },
     "execution_count": 11,
     "metadata": {},
     "output_type": "execute_result"
    }
   ],
   "source": [
    "sum(all['ID'].value_counts()>1)"
   ]
  },
  {
   "cell_type": "code",
   "execution_count": 12,
   "metadata": {},
   "outputs": [
    {
     "data": {
      "text/plain": [
       "2627"
      ]
     },
     "execution_count": 12,
     "metadata": {},
     "output_type": "execute_result"
    }
   ],
   "source": [
    "all[all['train_y_n']==0]['ID'].nunique()"
   ]
  },
  {
   "cell_type": "code",
   "execution_count": 13,
   "metadata": {},
   "outputs": [
    {
     "data": {
      "text/plain": [
       "0.8877046060144652"
      ]
     },
     "execution_count": 13,
     "metadata": {},
     "output_type": "execute_result"
    }
   ],
   "source": [
    "2332/2627"
   ]
  },
  {
   "cell_type": "markdown",
   "metadata": {},
   "source": [
    "Interestingly 89% of the test data IDs are part of train data, so a minimum 88% accuracy is guaranteed! :)"
   ]
  },
  {
   "cell_type": "code",
   "execution_count": 14,
   "metadata": {},
   "outputs": [
    {
     "data": {
      "text/html": [
       "<div>\n",
       "<style scoped>\n",
       "    .dataframe tbody tr th:only-of-type {\n",
       "        vertical-align: middle;\n",
       "    }\n",
       "\n",
       "    .dataframe tbody tr th {\n",
       "        vertical-align: top;\n",
       "    }\n",
       "\n",
       "    .dataframe thead th {\n",
       "        text-align: right;\n",
       "    }\n",
       "</style>\n",
       "<table border=\"1\" class=\"dataframe\">\n",
       "  <thead>\n",
       "    <tr style=\"text-align: right;\">\n",
       "      <th></th>\n",
       "      <th>ID</th>\n",
       "      <th>Gender</th>\n",
       "      <th>Ever_Married</th>\n",
       "      <th>Age</th>\n",
       "      <th>Graduated</th>\n",
       "      <th>Profession</th>\n",
       "      <th>Work_Experience</th>\n",
       "      <th>Spending_Score</th>\n",
       "      <th>Family_Size</th>\n",
       "      <th>Var_1</th>\n",
       "      <th>Segmentation</th>\n",
       "      <th>train_y_n</th>\n",
       "    </tr>\n",
       "  </thead>\n",
       "  <tbody>\n",
       "    <tr>\n",
       "      <th>5526</th>\n",
       "      <td>462826</td>\n",
       "      <td>Male</td>\n",
       "      <td>No</td>\n",
       "      <td>22</td>\n",
       "      <td>No</td>\n",
       "      <td>Healthcare</td>\n",
       "      <td>0.0</td>\n",
       "      <td>Low</td>\n",
       "      <td>3.0</td>\n",
       "      <td>Cat_3</td>\n",
       "      <td>D</td>\n",
       "      <td>1</td>\n",
       "    </tr>\n",
       "    <tr>\n",
       "      <th>1146</th>\n",
       "      <td>462826</td>\n",
       "      <td>Male</td>\n",
       "      <td>No</td>\n",
       "      <td>20</td>\n",
       "      <td>No</td>\n",
       "      <td>Healthcare</td>\n",
       "      <td>1.0</td>\n",
       "      <td>Low</td>\n",
       "      <td>3.0</td>\n",
       "      <td>Cat_3</td>\n",
       "      <td>NaN</td>\n",
       "      <td>0</td>\n",
       "    </tr>\n",
       "  </tbody>\n",
       "</table>\n",
       "</div>"
      ],
      "text/plain": [
       "          ID Gender Ever_Married  Age Graduated  Profession  Work_Experience  \\\n",
       "5526  462826   Male           No   22        No  Healthcare              0.0   \n",
       "1146  462826   Male           No   20        No  Healthcare              1.0   \n",
       "\n",
       "     Spending_Score  Family_Size  Var_1 Segmentation  train_y_n  \n",
       "5526            Low          3.0  Cat_3            D          1  \n",
       "1146            Low          3.0  Cat_3          NaN          0  "
      ]
     },
     "execution_count": 14,
     "metadata": {},
     "output_type": "execute_result"
    }
   ],
   "source": [
    "all[all['ID']==462826]"
   ]
  },
  {
   "cell_type": "code",
   "execution_count": 15,
   "metadata": {},
   "outputs": [
    {
     "data": {
      "text/plain": [
       "0"
      ]
     },
     "execution_count": 15,
     "metadata": {},
     "output_type": "execute_result"
    }
   ],
   "source": [
    "sum(all.groupby(['ID','train_y_n'])['ID'].count()>1)"
   ]
  },
  {
   "cell_type": "code",
   "execution_count": 16,
   "metadata": {},
   "outputs": [
    {
     "data": {
      "text/plain": [
       "<AxesSubplot:xlabel='Gender', ylabel='count'>"
      ]
     },
     "execution_count": 16,
     "metadata": {},
     "output_type": "execute_result"
    },
    {
     "data": {
      "image/png": "[encoded data removed]",
      "text/plain": [
       "<Figure size 432x288 with 1 Axes>"
      ]
     },
     "metadata": {
      "needs_background": "light"
     },
     "output_type": "display_data"
    }
   ],
   "source": [
    "#Gender\n",
    "sns.countplot(all['Gender'],hue=all['Segmentation'])"
   ]
  },
  {
   "cell_type": "code",
   "execution_count": 17,
   "metadata": {},
   "outputs": [
    {
     "data": {
      "text/plain": [
       "(                     Segmentation\n",
       " Gender Segmentation              \n",
       " Female A                      909\n",
       "        B                      861\n",
       "        C                      922\n",
       "        D                      959\n",
       " Male   A                     1063\n",
       "        B                      997\n",
       "        C                     1048\n",
       "        D                     1309,                      Segmentation\n",
       " Gender Segmentation              \n",
       " Female A                    24.90\n",
       "        B                    23.58\n",
       "        C                    25.25\n",
       "        D                    26.27\n",
       " Male   A                    24.07\n",
       "        B                    22.57\n",
       "        C                    23.73\n",
       "        D                    29.64)"
      ]
     },
     "execution_count": 17,
     "metadata": {},
     "output_type": "execute_result"
    }
   ],
   "source": [
    "groupby_df = all[all['train_y_n']==1].groupby(['Gender', 'Segmentation']).agg({'Segmentation': 'count'})\n",
    "groupby_pcts = groupby_df.groupby(level=0).apply(lambda x:round(100 * x / x.sum(),2))\n",
    "groupby_df,groupby_pcts"
   ]
  },
  {
   "cell_type": "markdown",
   "metadata": {},
   "source": [
    "# Segmentation D has slightly higher Male %, while there is no other significant difference"
   ]
  },
  {
   "cell_type": "code",
   "execution_count": 18,
   "metadata": {},
   "outputs": [
    {
     "data": {
      "text/plain": [
       "<AxesSubplot:xlabel='Ever_Married', ylabel='count'>"
      ]
     },
     "execution_count": 18,
     "metadata": {},
     "output_type": "execute_result"
    },
    {
     "data": {
      "image/png": "[encoded data removed]",
      "text/plain": [
       "<Figure size 432x288 with 1 Axes>"
      ]
     },
     "metadata": {
      "needs_background": "light"
     },
     "output_type": "display_data"
    }
   ],
   "source": [
    "#Ever_Married\n",
    "sns.countplot(all['Ever_Married'],hue=all['Segmentation'])"
   ]
  },
  {
   "cell_type": "code",
   "execution_count": 19,
   "metadata": {},
   "outputs": [
    {
     "data": {
      "text/plain": [
       "(                           Segmentation\n",
       " Ever_Married Segmentation              \n",
       " No           A                      801\n",
       "              B                      479\n",
       "              C                      398\n",
       "              D                     1607\n",
       " Yes          A                     1137\n",
       "              B                     1348\n",
       "              C                     1549\n",
       "              D                      609,\n",
       "                            Segmentation\n",
       " Ever_Married Segmentation              \n",
       " No           A                    24.38\n",
       "              B                    14.58\n",
       "              C                    12.12\n",
       "              D                    48.92\n",
       " Yes          A                    24.49\n",
       "              B                    29.03\n",
       "              C                    33.36\n",
       "              D                    13.12)"
      ]
     },
     "execution_count": 19,
     "metadata": {},
     "output_type": "execute_result"
    }
   ],
   "source": [
    "groupby_df = all[all['train_y_n']==1].groupby(['Ever_Married', 'Segmentation']).agg({'Segmentation': 'count'})\n",
    "groupby_pcts = groupby_df.groupby(level=0).apply(lambda x:round(100 * x / x.sum(),2))\n",
    "groupby_df,groupby_pcts"
   ]
  },
  {
   "cell_type": "markdown",
   "metadata": {},
   "source": [
    "A,B,C have higher Married people vs D has more Single people"
   ]
  },
  {
   "cell_type": "code",
   "execution_count": 20,
   "metadata": {},
   "outputs": [
    {
     "data": {
      "text/plain": [
       "190"
      ]
     },
     "execution_count": 20,
     "metadata": {},
     "output_type": "execute_result"
    }
   ],
   "source": [
    "sum(all['Ever_Married'].isnull())\n"
   ]
  },
  {
   "cell_type": "code",
   "execution_count": 21,
   "metadata": {},
   "outputs": [
    {
     "data": {
      "text/plain": [
       "<AxesSubplot:xlabel='Age'>"
      ]
     },
     "execution_count": 21,
     "metadata": {},
     "output_type": "execute_result"
    },
    {
     "data": {
      "image/png": "[encoded data removed]",
      "text/plain": [
       "<Figure size 432x288 with 1 Axes>"
      ]
     },
     "metadata": {
      "needs_background": "light"
     },
     "output_type": "display_data"
    }
   ],
   "source": [
    "#Age\n",
    "sns.distplot(all['Age'])"
   ]
  },
  {
   "cell_type": "code",
   "execution_count": 22,
   "metadata": {},
   "outputs": [
    {
     "data": {
      "text/plain": [
       "<matplotlib.legend.Legend at 0x18e236ecf60>"
      ]
     },
     "execution_count": 22,
     "metadata": {},
     "output_type": "execute_result"
    },
    {
     "data": {
      "image/png": "[encoded data removed]",
      "text/plain": [
       "<Figure size 432x288 with 1 Axes>"
      ]
     },
     "metadata": {},
     "output_type": "display_data"
    }
   ],
   "source": [
    "sns.set_style('whitegrid')\n",
    "sns.distplot(all[all['Segmentation']=='A']['Age'],bins=30,color='blue')\n",
    "sns.distplot(all[all['Segmentation']=='B']['Age'],bins=30,color='red')\n",
    "sns.distplot(all[all['Segmentation']=='C']['Age'],bins=30,color='green')\n",
    "sns.distplot(all[all['Segmentation']=='D']['Age'],bins=30,color='black')\n",
    "plt.legend(labels=['Seg=A', 'Seg=B', 'Seg=C','Seg=D'])"
   ]
  },
  {
   "cell_type": "code",
   "execution_count": 23,
   "metadata": {},
   "outputs": [
    {
     "data": {
      "text/plain": [
       "<AxesSubplot:xlabel='Graduated', ylabel='count'>"
      ]
     },
     "execution_count": 23,
     "metadata": {},
     "output_type": "execute_result"
    },
    {
     "data": {
      "image/png": "[encoded data removed]",
      "text/plain": [
       "<Figure size 432x288 with 1 Axes>"
      ]
     },
     "metadata": {},
     "output_type": "display_data"
    }
   ],
   "source": [
    "#Graduated\n",
    "sns.countplot(all['Graduated'],hue=all['Segmentation'])"
   ]
  },
  {
   "cell_type": "code",
   "execution_count": 24,
   "metadata": {},
   "outputs": [
    {
     "data": {
      "text/plain": [
       "(                        Segmentation\n",
       " Graduated Segmentation              \n",
       " No        A                      729\n",
       "           B                      508\n",
       "           C                      348\n",
       "           D                     1437\n",
       " Yes       A                     1219\n",
       "           B                     1332\n",
       "           C                     1607\n",
       "           D                      810,                         Segmentation\n",
       " Graduated Segmentation              \n",
       " No        A                    24.12\n",
       "           B                    16.81\n",
       "           C                    11.52\n",
       "           D                    47.55\n",
       " Yes       A                    24.54\n",
       "           B                    26.81\n",
       "           C                    32.35\n",
       "           D                    16.30)"
      ]
     },
     "execution_count": 24,
     "metadata": {},
     "output_type": "execute_result"
    }
   ],
   "source": [
    "groupby_df = all[all['train_y_n']==1].groupby(['Graduated', 'Segmentation']).agg({'Segmentation': 'count'})\n",
    "groupby_pcts = groupby_df.groupby(level=0).apply(lambda x:round(100 * x / x.sum(),2))\n",
    "groupby_df,groupby_pcts\n"
   ]
  },
  {
   "cell_type": "markdown",
   "metadata": {},
   "source": [
    "Graduated people are in Seg A,B,C while D has lesser graduates"
   ]
  },
  {
   "cell_type": "code",
   "execution_count": 25,
   "metadata": {},
   "outputs": [
    {
     "data": {
      "text/plain": [
       "<AxesSubplot:xlabel='Profession', ylabel='count'>"
      ]
     },
     "execution_count": 25,
     "metadata": {},
     "output_type": "execute_result"
    },
    {
     "data": {
      "image/png": "[encoded data removed]",
      "text/plain": [
       "<Figure size 720x432 with 1 Axes>"
      ]
     },
     "metadata": {},
     "output_type": "display_data"
    }
   ],
   "source": [
    "#Profession\n",
    "plt.rcParams['figure.figsize'] = (10, 6)\n",
    "sns.countplot(all['Profession'],hue=all['Segmentation'])"
   ]
  },
  {
   "cell_type": "code",
   "execution_count": 26,
   "metadata": {},
   "outputs": [
    {
     "data": {
      "text/plain": [
       "<AxesSubplot:xlabel='Work_Experience', ylabel='count'>"
      ]
     },
     "execution_count": 26,
     "metadata": {},
     "output_type": "execute_result"
    },
    {
     "data": {
      "image/png": "[encoded data removed]",
      "text/plain": [
       "<Figure size 720x432 with 1 Axes>"
      ]
     },
     "metadata": {},
     "output_type": "display_data"
    }
   ],
   "source": [
    "#Work_Experience\n",
    "sns.countplot(all['Work_Experience'])"
   ]
  },
  {
   "cell_type": "code",
   "execution_count": 27,
   "metadata": {},
   "outputs": [
    {
     "data": {
      "text/plain": [
       "<AxesSubplot:xlabel='Spending_Score', ylabel='count'>"
      ]
     },
     "execution_count": 27,
     "metadata": {},
     "output_type": "execute_result"
    },
    {
     "data": {
      "image/png": "[encoded data removed]",
      "text/plain": [
       "<Figure size 720x432 with 1 Axes>"
      ]
     },
     "metadata": {},
     "output_type": "display_data"
    }
   ],
   "source": [
    "#Spending_Score\n",
    "sns.countplot(all['Spending_Score'],hue=all['Segmentation'])"
   ]
  },
  {
   "cell_type": "code",
   "execution_count": 28,
   "metadata": {},
   "outputs": [
    {
     "data": {
      "text/plain": [
       "(                             Segmentation\n",
       " Spending_Score Segmentation              \n",
       " Average        A                      343\n",
       "                B                      590\n",
       "                C                      903\n",
       "                D                      138\n",
       " High           A                      271\n",
       "                B                      384\n",
       "                C                      405\n",
       "                D                      156\n",
       " Low            A                     1358\n",
       "                B                      884\n",
       "                C                      662\n",
       "                D                     1974,\n",
       "                              Segmentation\n",
       " Spending_Score Segmentation              \n",
       " Average        A                    17.38\n",
       "                B                    29.89\n",
       "                C                    45.74\n",
       "                D                     6.99\n",
       " High           A                    22.29\n",
       "                B                    31.58\n",
       "                C                    33.31\n",
       "                D                    12.83\n",
       " Low            A                    27.84\n",
       "                B                    18.12\n",
       "                C                    13.57\n",
       "                D                    40.47)"
      ]
     },
     "execution_count": 28,
     "metadata": {},
     "output_type": "execute_result"
    }
   ],
   "source": [
    "groupby_df = all[all['train_y_n']==1].groupby(['Spending_Score', 'Segmentation']).agg({'Segmentation': 'count'})\n",
    "groupby_pcts = groupby_df.groupby(level=0).apply(lambda x:round(100 * x / x.sum(),2))\n",
    "groupby_df,groupby_pcts"
   ]
  },
  {
   "cell_type": "code",
   "execution_count": 29,
   "metadata": {},
   "outputs": [
    {
     "data": {
      "text/plain": [
       "<AxesSubplot:xlabel='Family_Size', ylabel='count'>"
      ]
     },
     "execution_count": 29,
     "metadata": {},
     "output_type": "execute_result"
    },
    {
     "data": {
      "image/png": "[encoded data removed]",
      "text/plain": [
       "<Figure size 720x432 with 1 Axes>"
      ]
     },
     "metadata": {},
     "output_type": "display_data"
    }
   ],
   "source": [
    "#Family_Size\n",
    "sns.countplot(all['Family_Size'],hue=all['Segmentation'])"
   ]
  },
  {
   "cell_type": "code",
   "execution_count": 30,
   "metadata": {},
   "outputs": [
    {
     "data": {
      "text/plain": [
       "<AxesSubplot:xlabel='Var_1', ylabel='count'>"
      ]
     },
     "execution_count": 30,
     "metadata": {},
     "output_type": "execute_result"
    },
    {
     "data": {
      "image/png": "[encoded data removed]",
      "text/plain": [
       "<Figure size 720x432 with 1 Axes>"
      ]
     },
     "metadata": {},
     "output_type": "display_data"
    }
   ],
   "source": [
    "#Var_1\n",
    "sns.countplot(all['Var_1'],hue=all['Segmentation'])"
   ]
  },
  {
   "cell_type": "markdown",
   "metadata": {},
   "source": [
    "# Bivariate Analysis"
   ]
  },
  {
   "cell_type": "code",
   "execution_count": 31,
   "metadata": {},
   "outputs": [
    {
     "data": {
      "text/plain": [
       "ID                   int64\n",
       "Gender              object\n",
       "Ever_Married        object\n",
       "Age                  int64\n",
       "Graduated           object\n",
       "Profession          object\n",
       "Work_Experience    float64\n",
       "Spending_Score      object\n",
       "Family_Size        float64\n",
       "Var_1               object\n",
       "Segmentation        object\n",
       "train_y_n            int64\n",
       "dtype: object"
      ]
     },
     "execution_count": 31,
     "metadata": {},
     "output_type": "execute_result"
    }
   ],
   "source": [
    "all.dtypes"
   ]
  },
  {
   "cell_type": "code",
   "execution_count": 32,
   "metadata": {},
   "outputs": [
    {
     "data": {
      "text/plain": [
       "<AxesSubplot:>"
      ]
     },
     "execution_count": 32,
     "metadata": {},
     "output_type": "execute_result"
    },
    {
     "data": {
      "image/png": "[encoded data removed]",
      "text/plain": [
       "<Figure size 720x432 with 2 Axes>"
      ]
     },
     "metadata": {},
     "output_type": "display_data"
    }
   ],
   "source": [
    "sns.heatmap(all.corr(),annot=True)"
   ]
  },
  {
   "cell_type": "markdown",
   "metadata": {},
   "source": [
    "Feature Engineering & Missing Value Treatment"
   ]
  },
  {
   "cell_type": "code",
   "execution_count": 33,
   "metadata": {},
   "outputs": [
    {
     "name": "stdout",
     "output_type": "stream",
     "text": [
      "['Gender', 'Ever_Married', 'Age', 'Graduated', 'Profession', 'Work_Experience', 'Spending_Score', 'Family_Size', 'Var_1']\n"
     ]
    }
   ],
   "source": [
    "feature_cols = all.columns.tolist()\n",
    "feature_cols.remove('ID')\n",
    "feature_cols.remove('Segmentation')\n",
    "feature_cols.remove('train_y_n')\n",
    "label_col = 'Segmentation'\n",
    "print(feature_cols)"
   ]
  },
  {
   "cell_type": "code",
   "execution_count": 34,
   "metadata": {},
   "outputs": [
    {
     "data": {
      "text/plain": [
       "ID                    0\n",
       "Gender                0\n",
       "Ever_Married        190\n",
       "Age                   0\n",
       "Graduated           102\n",
       "Profession          162\n",
       "Work_Experience    1098\n",
       "Spending_Score        0\n",
       "Family_Size         448\n",
       "Var_1               108\n",
       "Segmentation       2627\n",
       "train_y_n             0\n",
       "dtype: int64"
      ]
     },
     "execution_count": 34,
     "metadata": {},
     "output_type": "execute_result"
    }
   ],
   "source": [
    "all.isnull().sum()"
   ]
  },
  {
   "cell_type": "code",
   "execution_count": 35,
   "metadata": {},
   "outputs": [],
   "source": [
    "#Gender\n",
    "all=pd.get_dummies(all,prefix='Gender',columns=['Gender'],drop_first=True)"
   ]
  },
  {
   "cell_type": "code",
   "execution_count": 36,
   "metadata": {},
   "outputs": [
    {
     "data": {
      "text/html": [
       "<div>\n",
       "<style scoped>\n",
       "    .dataframe tbody tr th:only-of-type {\n",
       "        vertical-align: middle;\n",
       "    }\n",
       "\n",
       "    .dataframe tbody tr th {\n",
       "        vertical-align: top;\n",
       "    }\n",
       "\n",
       "    .dataframe thead th {\n",
       "        text-align: right;\n",
       "    }\n",
       "</style>\n",
       "<table border=\"1\" class=\"dataframe\">\n",
       "  <thead>\n",
       "    <tr style=\"text-align: right;\">\n",
       "      <th></th>\n",
       "      <th>ID</th>\n",
       "      <th>Ever_Married</th>\n",
       "      <th>Age</th>\n",
       "      <th>Graduated</th>\n",
       "      <th>Profession</th>\n",
       "      <th>Work_Experience</th>\n",
       "      <th>Spending_Score</th>\n",
       "      <th>Family_Size</th>\n",
       "      <th>Var_1</th>\n",
       "      <th>Segmentation</th>\n",
       "      <th>train_y_n</th>\n",
       "      <th>Gender_Male</th>\n",
       "    </tr>\n",
       "  </thead>\n",
       "  <tbody>\n",
       "    <tr>\n",
       "      <th>0</th>\n",
       "      <td>462809</td>\n",
       "      <td>No</td>\n",
       "      <td>22</td>\n",
       "      <td>No</td>\n",
       "      <td>Healthcare</td>\n",
       "      <td>1.0</td>\n",
       "      <td>Low</td>\n",
       "      <td>4.0</td>\n",
       "      <td>Cat_4</td>\n",
       "      <td>D</td>\n",
       "      <td>1</td>\n",
       "      <td>1</td>\n",
       "    </tr>\n",
       "    <tr>\n",
       "      <th>1</th>\n",
       "      <td>462643</td>\n",
       "      <td>Yes</td>\n",
       "      <td>38</td>\n",
       "      <td>Yes</td>\n",
       "      <td>Engineer</td>\n",
       "      <td>NaN</td>\n",
       "      <td>Average</td>\n",
       "      <td>3.0</td>\n",
       "      <td>Cat_4</td>\n",
       "      <td>A</td>\n",
       "      <td>1</td>\n",
       "      <td>0</td>\n",
       "    </tr>\n",
       "  </tbody>\n",
       "</table>\n",
       "</div>"
      ],
      "text/plain": [
       "       ID Ever_Married  Age Graduated  Profession  Work_Experience  \\\n",
       "0  462809           No   22        No  Healthcare              1.0   \n",
       "1  462643          Yes   38       Yes    Engineer              NaN   \n",
       "\n",
       "  Spending_Score  Family_Size  Var_1 Segmentation  train_y_n  Gender_Male  \n",
       "0            Low          4.0  Cat_4            D          1            1  \n",
       "1        Average          3.0  Cat_4            A          1            0  "
      ]
     },
     "execution_count": 36,
     "metadata": {},
     "output_type": "execute_result"
    }
   ],
   "source": [
    "all.head(2)"
   ]
  },
  {
   "cell_type": "code",
   "execution_count": 37,
   "metadata": {},
   "outputs": [
    {
     "data": {
      "text/plain": [
       "<AxesSubplot:xlabel='Ever_Married', ylabel='count'>"
      ]
     },
     "execution_count": 37,
     "metadata": {},
     "output_type": "execute_result"
    },
    {
     "data": {
      "image/png": "[encoded data removed]",
      "text/plain": [
       "<Figure size 720x432 with 1 Axes>"
      ]
     },
     "metadata": {},
     "output_type": "display_data"
    }
   ],
   "source": [
    "#Ever_Married\n",
    "sns.countplot(all['Ever_Married'],hue=all['Family_Size'])"
   ]
  },
  {
   "cell_type": "code",
   "execution_count": 38,
   "metadata": {},
   "outputs": [
    {
     "data": {
      "text/plain": [
       "3.0    45\n",
       "2.0    40\n",
       "1.0    34\n",
       "4.0    32\n",
       "5.0    17\n",
       "6.0     5\n",
       "8.0     2\n",
       "7.0     1\n",
       "Name: Family_Size, dtype: int64"
      ]
     },
     "execution_count": 38,
     "metadata": {},
     "output_type": "execute_result"
    }
   ],
   "source": [
    "all[all['Ever_Married'].isnull()]['Family_Size'].value_counts()"
   ]
  },
  {
   "cell_type": "code",
   "execution_count": 39,
   "metadata": {},
   "outputs": [],
   "source": [
    "all['Ever_Married']=all['Ever_Married'].fillna('Yes')\n"
   ]
  },
  {
   "cell_type": "code",
   "execution_count": 40,
   "metadata": {},
   "outputs": [],
   "source": [
    "all=pd.get_dummies(all,prefix='Married',columns=['Ever_Married'],drop_first=True)"
   ]
  },
  {
   "cell_type": "code",
   "execution_count": 41,
   "metadata": {},
   "outputs": [
    {
     "data": {
      "text/html": [
       "<div>\n",
       "<style scoped>\n",
       "    .dataframe tbody tr th:only-of-type {\n",
       "        vertical-align: middle;\n",
       "    }\n",
       "\n",
       "    .dataframe tbody tr th {\n",
       "        vertical-align: top;\n",
       "    }\n",
       "\n",
       "    .dataframe thead th {\n",
       "        text-align: right;\n",
       "    }\n",
       "</style>\n",
       "<table border=\"1\" class=\"dataframe\">\n",
       "  <thead>\n",
       "    <tr style=\"text-align: right;\">\n",
       "      <th></th>\n",
       "      <th>ID</th>\n",
       "      <th>Age</th>\n",
       "      <th>Graduated</th>\n",
       "      <th>Profession</th>\n",
       "      <th>Work_Experience</th>\n",
       "      <th>Spending_Score</th>\n",
       "      <th>Family_Size</th>\n",
       "      <th>Var_1</th>\n",
       "      <th>Segmentation</th>\n",
       "      <th>train_y_n</th>\n",
       "      <th>Gender_Male</th>\n",
       "      <th>Married_Yes</th>\n",
       "    </tr>\n",
       "  </thead>\n",
       "  <tbody>\n",
       "    <tr>\n",
       "      <th>0</th>\n",
       "      <td>462809</td>\n",
       "      <td>22</td>\n",
       "      <td>No</td>\n",
       "      <td>Healthcare</td>\n",
       "      <td>1.0</td>\n",
       "      <td>Low</td>\n",
       "      <td>4.0</td>\n",
       "      <td>Cat_4</td>\n",
       "      <td>D</td>\n",
       "      <td>1</td>\n",
       "      <td>1</td>\n",
       "      <td>0</td>\n",
       "    </tr>\n",
       "    <tr>\n",
       "      <th>1</th>\n",
       "      <td>462643</td>\n",
       "      <td>38</td>\n",
       "      <td>Yes</td>\n",
       "      <td>Engineer</td>\n",
       "      <td>NaN</td>\n",
       "      <td>Average</td>\n",
       "      <td>3.0</td>\n",
       "      <td>Cat_4</td>\n",
       "      <td>A</td>\n",
       "      <td>1</td>\n",
       "      <td>0</td>\n",
       "      <td>1</td>\n",
       "    </tr>\n",
       "  </tbody>\n",
       "</table>\n",
       "</div>"
      ],
      "text/plain": [
       "       ID  Age Graduated  Profession  Work_Experience Spending_Score  \\\n",
       "0  462809   22        No  Healthcare              1.0            Low   \n",
       "1  462643   38       Yes    Engineer              NaN        Average   \n",
       "\n",
       "   Family_Size  Var_1 Segmentation  train_y_n  Gender_Male  Married_Yes  \n",
       "0          4.0  Cat_4            D          1            1            0  \n",
       "1          3.0  Cat_4            A          1            0            1  "
      ]
     },
     "execution_count": 41,
     "metadata": {},
     "output_type": "execute_result"
    }
   ],
   "source": [
    "all.head(2)"
   ]
  },
  {
   "cell_type": "code",
   "execution_count": 42,
   "metadata": {},
   "outputs": [
    {
     "data": {
      "text/plain": [
       "<AxesSubplot:xlabel='Graduated', ylabel='count'>"
      ]
     },
     "execution_count": 42,
     "metadata": {},
     "output_type": "execute_result"
    },
    {
     "data": {
      "image/png": "[encoded data removed]",
      "text/plain": [
       "<Figure size 720x432 with 1 Axes>"
      ]
     },
     "metadata": {},
     "output_type": "display_data"
    }
   ],
   "source": [
    "#Graduated\n",
    "sns.countplot(all['Graduated'])"
   ]
  },
  {
   "cell_type": "code",
   "execution_count": 43,
   "metadata": {},
   "outputs": [],
   "source": [
    "all['Graduated']=all['Graduated'].fillna('Yes')"
   ]
  },
  {
   "cell_type": "code",
   "execution_count": 44,
   "metadata": {},
   "outputs": [
    {
     "data": {
      "text/html": [
       "<div>\n",
       "<style scoped>\n",
       "    .dataframe tbody tr th:only-of-type {\n",
       "        vertical-align: middle;\n",
       "    }\n",
       "\n",
       "    .dataframe tbody tr th {\n",
       "        vertical-align: top;\n",
       "    }\n",
       "\n",
       "    .dataframe thead th {\n",
       "        text-align: right;\n",
       "    }\n",
       "</style>\n",
       "<table border=\"1\" class=\"dataframe\">\n",
       "  <thead>\n",
       "    <tr style=\"text-align: right;\">\n",
       "      <th></th>\n",
       "      <th>ID</th>\n",
       "      <th>Age</th>\n",
       "      <th>Profession</th>\n",
       "      <th>Work_Experience</th>\n",
       "      <th>Spending_Score</th>\n",
       "      <th>Family_Size</th>\n",
       "      <th>Var_1</th>\n",
       "      <th>Segmentation</th>\n",
       "      <th>train_y_n</th>\n",
       "      <th>Gender_Male</th>\n",
       "      <th>Married_Yes</th>\n",
       "      <th>Graduated_Yes</th>\n",
       "    </tr>\n",
       "  </thead>\n",
       "  <tbody>\n",
       "    <tr>\n",
       "      <th>0</th>\n",
       "      <td>462809</td>\n",
       "      <td>22</td>\n",
       "      <td>Healthcare</td>\n",
       "      <td>1.0</td>\n",
       "      <td>Low</td>\n",
       "      <td>4.0</td>\n",
       "      <td>Cat_4</td>\n",
       "      <td>D</td>\n",
       "      <td>1</td>\n",
       "      <td>1</td>\n",
       "      <td>0</td>\n",
       "      <td>0</td>\n",
       "    </tr>\n",
       "    <tr>\n",
       "      <th>1</th>\n",
       "      <td>462643</td>\n",
       "      <td>38</td>\n",
       "      <td>Engineer</td>\n",
       "      <td>NaN</td>\n",
       "      <td>Average</td>\n",
       "      <td>3.0</td>\n",
       "      <td>Cat_4</td>\n",
       "      <td>A</td>\n",
       "      <td>1</td>\n",
       "      <td>0</td>\n",
       "      <td>1</td>\n",
       "      <td>1</td>\n",
       "    </tr>\n",
       "  </tbody>\n",
       "</table>\n",
       "</div>"
      ],
      "text/plain": [
       "       ID  Age  Profession  Work_Experience Spending_Score  Family_Size  \\\n",
       "0  462809   22  Healthcare              1.0            Low          4.0   \n",
       "1  462643   38    Engineer              NaN        Average          3.0   \n",
       "\n",
       "   Var_1 Segmentation  train_y_n  Gender_Male  Married_Yes  Graduated_Yes  \n",
       "0  Cat_4            D          1            1            0              0  \n",
       "1  Cat_4            A          1            0            1              1  "
      ]
     },
     "execution_count": 44,
     "metadata": {},
     "output_type": "execute_result"
    }
   ],
   "source": [
    "all=pd.get_dummies(all,prefix='Graduated',columns=['Graduated'],drop_first=True)\n",
    "all.head(2)"
   ]
  },
  {
   "cell_type": "code",
   "execution_count": 45,
   "metadata": {},
   "outputs": [],
   "source": [
    "#Profession\n",
    "all['Profession'].fillna('Unknown',inplace=True)"
   ]
  },
  {
   "cell_type": "code",
   "execution_count": 46,
   "metadata": {},
   "outputs": [],
   "source": [
    "all['Profession']=all['Profession'].astype('str')"
   ]
  },
  {
   "cell_type": "code",
   "execution_count": 47,
   "metadata": {},
   "outputs": [],
   "source": [
    "from sklearn import preprocessing\n",
    "le = preprocessing.LabelEncoder()\n",
    "all['Profession_en']=le.fit_transform(all['Profession'])"
   ]
  },
  {
   "cell_type": "code",
   "execution_count": 48,
   "metadata": {},
   "outputs": [
    {
     "data": {
      "text/plain": [
       "<AxesSubplot:xlabel='Profession_en', ylabel='count'>"
      ]
     },
     "execution_count": 48,
     "metadata": {},
     "output_type": "execute_result"
    },
    {
     "data": {
      "image/png": "[encoded data removed]",
      "text/plain": [
       "<Figure size 720x432 with 1 Axes>"
      ]
     },
     "metadata": {},
     "output_type": "display_data"
    }
   ],
   "source": [
    "sns.countplot(all['Profession_en'],hue=all['Profession'])"
   ]
  },
  {
   "cell_type": "code",
   "execution_count": 49,
   "metadata": {},
   "outputs": [
    {
     "data": {
      "text/plain": [
       "0    3318\n",
       "5    1750\n",
       "3    1250\n",
       "2     935\n",
       "1     930\n",
       "7     844\n",
       "4     775\n",
       "8     403\n",
       "6     328\n",
       "9     162\n",
       "Name: Profession_en, dtype: int64"
      ]
     },
     "execution_count": 49,
     "metadata": {},
     "output_type": "execute_result"
    }
   ],
   "source": [
    "all['Profession_en'].value_counts()"
   ]
  },
  {
   "cell_type": "code",
   "execution_count": 50,
   "metadata": {},
   "outputs": [],
   "source": [
    "all.drop('Profession',axis=1,inplace=True)"
   ]
  },
  {
   "cell_type": "code",
   "execution_count": 52,
   "metadata": {},
   "outputs": [],
   "source": [
    "#Work_Experience\n",
    "all['Work_Experience'].fillna(all['Work_Experience'].mean(),inplace=True)"
   ]
  },
  {
   "cell_type": "code",
   "execution_count": 53,
   "metadata": {},
   "outputs": [],
   "source": [
    "#Spending_Score\n",
    "all.loc[all['Spending_Score']=='Low','Spending_Score']=1\n",
    "all.loc[all['Spending_Score']=='Average','Spending_Score']=2\n",
    "all.loc[all['Spending_Score']=='High','Spending_Score']=3\n",
    "all['Spending_Score']=all['Spending_Score'].astype('int')\n"
   ]
  },
  {
   "cell_type": "code",
   "execution_count": 55,
   "metadata": {},
   "outputs": [],
   "source": [
    "#Family_Size\n",
    "all['Family_Size'].fillna(round(all['Family_Size'].mean()),inplace=True)"
   ]
  },
  {
   "cell_type": "code",
   "execution_count": 56,
   "metadata": {},
   "outputs": [],
   "source": [
    "#Var_1\n",
    "all['Var_1'].fillna('Cat_6',inplace=True)\n",
    "all['Var_1']=all['Var_1'].apply(lambda x:x[-1])\n",
    "all['Var_1']=all['Var_1'].astype('int')"
   ]
  },
  {
   "cell_type": "code",
   "execution_count": 57,
   "metadata": {},
   "outputs": [],
   "source": [
    "#Train & Test Split\n",
    "from sklearn.model_selection import train_test_split\n",
    "df_train, df_eval = train_test_split(all[all['train_y_n']==1], test_size=0.40, random_state=101, shuffle=True, stratify=all[all['train_y_n']==1][label_col])"
   ]
  },
  {
   "cell_type": "code",
   "execution_count": 58,
   "metadata": {},
   "outputs": [],
   "source": [
    "le = preprocessing.LabelEncoder()\n",
    "df_train['Segmentation']=le.fit_transform(df_train['Segmentation'])\n",
    "df_eval['Segmentation']=le.fit_transform(df_eval['Segmentation'])"
   ]
  },
  {
   "cell_type": "code",
   "execution_count": 59,
   "metadata": {},
   "outputs": [
    {
     "name": "stdout",
     "output_type": "stream",
     "text": [
      "<class 'pandas.core.frame.DataFrame'>\n",
      "Int64Index: 4840 entries, 6452 to 4455\n",
      "Data columns (total 12 columns):\n",
      " #   Column           Non-Null Count  Dtype  \n",
      "---  ------           --------------  -----  \n",
      " 0   ID               4840 non-null   int64  \n",
      " 1   Age              4840 non-null   int64  \n",
      " 2   Work_Experience  4840 non-null   float64\n",
      " 3   Spending_Score   4840 non-null   int32  \n",
      " 4   Family_Size      4840 non-null   float64\n",
      " 5   Var_1            4840 non-null   int32  \n",
      " 6   Segmentation     4840 non-null   int32  \n",
      " 7   train_y_n        4840 non-null   int64  \n",
      " 8   Gender_Male      4840 non-null   uint8  \n",
      " 9   Married_Yes      4840 non-null   uint8  \n",
      " 10  Graduated_Yes    4840 non-null   uint8  \n",
      " 11  Profession_en    4840 non-null   int32  \n",
      "dtypes: float64(2), int32(4), int64(3), uint8(3)\n",
      "memory usage: 316.7 KB\n"
     ]
    }
   ],
   "source": [
    "df_train.info()"
   ]
  },
  {
   "cell_type": "code",
   "execution_count": 60,
   "metadata": {},
   "outputs": [
    {
     "name": "stdout",
     "output_type": "stream",
     "text": [
      "<class 'pandas.core.frame.DataFrame'>\n",
      "Int64Index: 3228 entries, 6457 to 1140\n",
      "Data columns (total 12 columns):\n",
      " #   Column           Non-Null Count  Dtype  \n",
      "---  ------           --------------  -----  \n",
      " 0   ID               3228 non-null   int64  \n",
      " 1   Age              3228 non-null   int64  \n",
      " 2   Work_Experience  3228 non-null   float64\n",
      " 3   Spending_Score   3228 non-null   int32  \n",
      " 4   Family_Size      3228 non-null   float64\n",
      " 5   Var_1            3228 non-null   int32  \n",
      " 6   Segmentation     3228 non-null   int32  \n",
      " 7   train_y_n        3228 non-null   int64  \n",
      " 8   Gender_Male      3228 non-null   uint8  \n",
      " 9   Married_Yes      3228 non-null   uint8  \n",
      " 10  Graduated_Yes    3228 non-null   uint8  \n",
      " 11  Profession_en    3228 non-null   int32  \n",
      "dtypes: float64(2), int32(4), int64(3), uint8(3)\n",
      "memory usage: 211.2 KB\n"
     ]
    }
   ],
   "source": [
    "df_eval.info()"
   ]
  },
  {
   "cell_type": "markdown",
   "metadata": {},
   "source": [
    "# Model Building"
   ]
  },
  {
   "cell_type": "code",
   "execution_count": 61,
   "metadata": {},
   "outputs": [],
   "source": [
    "import lightgbm as lgb\n",
    "from sklearn import preprocessing\n",
    "from sklearn.metrics import mean_squared_log_error, mean_squared_error\n",
    "from sklearn.model_selection import train_test_split\n",
    "from sklearn.metrics import roc_auc_score\n",
    "from sklearn.metrics import accuracy_score\n",
    "from sklearn.metrics import log_loss\n",
    "from sklearn.metrics import classification_report\n",
    "import seaborn as sns\n",
    "from collections import Counter\n",
    "sns.set_style('whitegrid')\n"
   ]
  },
  {
   "cell_type": "code",
   "execution_count": 62,
   "metadata": {},
   "outputs": [],
   "source": [
    "params = {}\n",
    "params['learning_rate'] = 0.04\n",
    "params['max_depth'] = 18\n",
    "params['n_estimators'] = 3000\n",
    "params['objective'] = 'multiclass'\n",
    "params['boosting_type'] = 'gbdt'\n",
    "params['subsample'] = 0.7\n",
    "params['random_state'] = 42\n",
    "params['colsample_bytree']=0.7\n",
    "params['min_data_in_leaf'] = 55\n",
    "params['reg_alpha'] = 1.7\n",
    "params['reg_lambda'] = 1.11\n",
    "#params['class_weight']: {0: 0.44, 1: 0.4, 2: 0.37}\n"
   ]
  },
  {
   "cell_type": "code",
   "execution_count": 63,
   "metadata": {},
   "outputs": [
    {
     "name": "stdout",
     "output_type": "stream",
     "text": [
      "['Age', 'Work_Experience', 'Spending_Score', 'Family_Size', 'Var_1', 'Gender_Male', 'Married_Yes', 'Graduated_Yes', 'Profession_en']\n"
     ]
    }
   ],
   "source": [
    "feature_cols = df_train.columns.tolist()\n",
    "feature_cols.remove('ID')\n",
    "feature_cols.remove('Segmentation')\n",
    "feature_cols.remove('train_y_n')\n",
    "label_col = 'Segmentation'\n",
    "print(feature_cols)"
   ]
  },
  {
   "cell_type": "code",
   "execution_count": 64,
   "metadata": {},
   "outputs": [],
   "source": [
    "cat_cols=['Spending_Score','Family_Size','Var_1','Gender_Male','Married_Yes','Graduated_Yes','Profession_en']"
   ]
  },
  {
   "cell_type": "code",
   "execution_count": 65,
   "metadata": {},
   "outputs": [
    {
     "name": "stdout",
     "output_type": "stream",
     "text": [
      "[LightGBM] [Warning] min_data_in_leaf is set=55, min_child_samples=20 will be ignored. Current value: min_data_in_leaf=55\n",
      "[LightGBM] [Warning] Accuracy may be bad since you didn't set num_leaves and 2^max_depth > num_leaves\n",
      "[1]\tvalid_0's multi_error: 0.719008\tvalid_0's multi_logloss: 1.36412\tvalid_1's multi_error: 0.718711\tvalid_1's multi_logloss: 1.36509\n",
      "Training until validation scores don't improve for 100 rounds\n",
      "[2]\tvalid_0's multi_error: 0.628099\tvalid_0's multi_logloss: 1.34506\tvalid_1's multi_error: 0.629182\tvalid_1's multi_logloss: 1.34735\n",
      "[3]\tvalid_0's multi_error: 0.551033\tvalid_0's multi_logloss: 1.32565\tvalid_1's multi_error: 0.562268\tvalid_1's multi_logloss: 1.3289\n",
      "[4]\tvalid_0's multi_error: 0.531198\tvalid_0's multi_logloss: 1.30789\tvalid_1's multi_error: 0.537485\tvalid_1's multi_logloss: 1.31214\n",
      "[5]\tvalid_0's multi_error: 0.507025\tvalid_0's multi_logloss: 1.29435\tvalid_1's multi_error: 0.520446\tvalid_1's multi_logloss: 1.30016\n",
      "[6]\tvalid_0's multi_error: 0.484298\tvalid_0's multi_logloss: 1.27904\tvalid_1's multi_error: 0.50031\tvalid_1's multi_logloss: 1.28601\n",
      "[7]\tvalid_0's multi_error: 0.464256\tvalid_0's multi_logloss: 1.26468\tvalid_1's multi_error: 0.481413\tvalid_1's multi_logloss: 1.2732\n",
      "[8]\tvalid_0's multi_error: 0.453926\tvalid_0's multi_logloss: 1.25174\tvalid_1's multi_error: 0.473668\tvalid_1's multi_logloss: 1.26157\n",
      "[9]\tvalid_0's multi_error: 0.452479\tvalid_0's multi_logloss: 1.23972\tvalid_1's multi_error: 0.471809\tvalid_1's multi_logloss: 1.25128\n",
      "[10]\tvalid_0's multi_error: 0.446281\tvalid_0's multi_logloss: 1.22751\tvalid_1's multi_error: 0.472429\tvalid_1's multi_logloss: 1.24065\n",
      "[11]\tvalid_0's multi_error: 0.444835\tvalid_0's multi_logloss: 1.21703\tvalid_1's multi_error: 0.471809\tvalid_1's multi_logloss: 1.23124\n",
      "[12]\tvalid_0's multi_error: 0.442355\tvalid_0's multi_logloss: 1.20643\tvalid_1's multi_error: 0.47088\tvalid_1's multi_logloss: 1.22154\n",
      "[13]\tvalid_0's multi_error: 0.445041\tvalid_0's multi_logloss: 1.19656\tvalid_1's multi_error: 0.472739\tvalid_1's multi_logloss: 1.21252\n",
      "[14]\tvalid_0's multi_error: 0.442975\tvalid_0's multi_logloss: 1.18685\tvalid_1's multi_error: 0.472119\tvalid_1's multi_logloss: 1.20363\n",
      "[15]\tvalid_0's multi_error: 0.440909\tvalid_0's multi_logloss: 1.17808\tvalid_1's multi_error: 0.475527\tvalid_1's multi_logloss: 1.19593\n",
      "[16]\tvalid_0's multi_error: 0.436157\tvalid_0's multi_logloss: 1.16984\tvalid_1's multi_error: 0.473048\tvalid_1's multi_logloss: 1.18908\n",
      "[17]\tvalid_0's multi_error: 0.434917\tvalid_0's multi_logloss: 1.16103\tvalid_1's multi_error: 0.471809\tvalid_1's multi_logloss: 1.18125\n",
      "[18]\tvalid_0's multi_error: 0.431818\tvalid_0's multi_logloss: 1.15369\tvalid_1's multi_error: 0.471809\tvalid_1's multi_logloss: 1.17551\n",
      "[19]\tvalid_0's multi_error: 0.433678\tvalid_0's multi_logloss: 1.14689\tvalid_1's multi_error: 0.472739\tvalid_1's multi_logloss: 1.17028\n",
      "[20]\tvalid_0's multi_error: 0.432851\tvalid_0's multi_logloss: 1.13963\tvalid_1's multi_error: 0.46995\tvalid_1's multi_logloss: 1.16436\n",
      "[21]\tvalid_0's multi_error: 0.429339\tvalid_0's multi_logloss: 1.13364\tvalid_1's multi_error: 0.469021\tvalid_1's multi_logloss: 1.15946\n",
      "[22]\tvalid_0's multi_error: 0.430579\tvalid_0's multi_logloss: 1.12754\tvalid_1's multi_error: 0.468711\tvalid_1's multi_logloss: 1.15424\n",
      "[23]\tvalid_0's multi_error: 0.430165\tvalid_0's multi_logloss: 1.12213\tvalid_1's multi_error: 0.468401\tvalid_1's multi_logloss: 1.14979\n",
      "[24]\tvalid_0's multi_error: 0.427893\tvalid_0's multi_logloss: 1.11699\tvalid_1's multi_error: 0.467782\tvalid_1's multi_logloss: 1.14586\n",
      "[25]\tvalid_0's multi_error: 0.429132\tvalid_0's multi_logloss: 1.11127\tvalid_1's multi_error: 0.47026\tvalid_1's multi_logloss: 1.14163\n",
      "[26]\tvalid_0's multi_error: 0.428512\tvalid_0's multi_logloss: 1.1068\tvalid_1's multi_error: 0.47119\tvalid_1's multi_logloss: 1.13823\n",
      "[27]\tvalid_0's multi_error: 0.428306\tvalid_0's multi_logloss: 1.10189\tvalid_1's multi_error: 0.472119\tvalid_1's multi_logloss: 1.13436\n",
      "[28]\tvalid_0's multi_error: 0.426033\tvalid_0's multi_logloss: 1.09707\tvalid_1's multi_error: 0.471499\tvalid_1's multi_logloss: 1.13049\n",
      "[29]\tvalid_0's multi_error: 0.426653\tvalid_0's multi_logloss: 1.09229\tvalid_1's multi_error: 0.47119\tvalid_1's multi_logloss: 1.12695\n",
      "[30]\tvalid_0's multi_error: 0.42376\tvalid_0's multi_logloss: 1.08766\tvalid_1's multi_error: 0.47057\tvalid_1's multi_logloss: 1.12366\n",
      "[31]\tvalid_0's multi_error: 0.42376\tvalid_0's multi_logloss: 1.08281\tvalid_1's multi_error: 0.472739\tvalid_1's multi_logloss: 1.12005\n",
      "[32]\tvalid_0's multi_error: 0.425\tvalid_0's multi_logloss: 1.07876\tvalid_1's multi_error: 0.474597\tvalid_1's multi_logloss: 1.11722\n",
      "[33]\tvalid_0's multi_error: 0.424174\tvalid_0's multi_logloss: 1.07452\tvalid_1's multi_error: 0.473978\tvalid_1's multi_logloss: 1.114\n",
      "[34]\tvalid_0's multi_error: 0.424587\tvalid_0's multi_logloss: 1.07119\tvalid_1's multi_error: 0.472429\tvalid_1's multi_logloss: 1.11177\n",
      "[35]\tvalid_0's multi_error: 0.423554\tvalid_0's multi_logloss: 1.06806\tvalid_1's multi_error: 0.472429\tvalid_1's multi_logloss: 1.10968\n",
      "[36]\tvalid_0's multi_error: 0.425\tvalid_0's multi_logloss: 1.06453\tvalid_1's multi_error: 0.471499\tvalid_1's multi_logloss: 1.10715\n",
      "[37]\tvalid_0's multi_error: 0.424587\tvalid_0's multi_logloss: 1.06158\tvalid_1's multi_error: 0.47119\tvalid_1's multi_logloss: 1.10488\n",
      "[38]\tvalid_0's multi_error: 0.424793\tvalid_0's multi_logloss: 1.05827\tvalid_1's multi_error: 0.472119\tvalid_1's multi_logloss: 1.10257\n",
      "[39]\tvalid_0's multi_error: 0.423347\tvalid_0's multi_logloss: 1.05495\tvalid_1's multi_error: 0.47119\tvalid_1's multi_logloss: 1.10029\n",
      "[40]\tvalid_0's multi_error: 0.421281\tvalid_0's multi_logloss: 1.05154\tvalid_1's multi_error: 0.47119\tvalid_1's multi_logloss: 1.09807\n",
      "[41]\tvalid_0's multi_error: 0.421694\tvalid_0's multi_logloss: 1.04829\tvalid_1's multi_error: 0.47119\tvalid_1's multi_logloss: 1.09594\n",
      "[42]\tvalid_0's multi_error: 0.421901\tvalid_0's multi_logloss: 1.04525\tvalid_1's multi_error: 0.46995\tvalid_1's multi_logloss: 1.09386\n",
      "[43]\tvalid_0's multi_error: 0.422107\tvalid_0's multi_logloss: 1.04272\tvalid_1's multi_error: 0.469641\tvalid_1's multi_logloss: 1.09235\n",
      "[44]\tvalid_0's multi_error: 0.420455\tvalid_0's multi_logloss: 1.03966\tvalid_1's multi_error: 0.467782\tvalid_1's multi_logloss: 1.09059\n",
      "[45]\tvalid_0's multi_error: 0.418802\tvalid_0's multi_logloss: 1.03715\tvalid_1's multi_error: 0.469641\tvalid_1's multi_logloss: 1.08919\n",
      "[46]\tvalid_0's multi_error: 0.420455\tvalid_0's multi_logloss: 1.03504\tvalid_1's multi_error: 0.47088\tvalid_1's multi_logloss: 1.08815\n",
      "[47]\tvalid_0's multi_error: 0.417975\tvalid_0's multi_logloss: 1.03292\tvalid_1's multi_error: 0.468401\tvalid_1's multi_logloss: 1.08709\n",
      "[48]\tvalid_0's multi_error: 0.418388\tvalid_0's multi_logloss: 1.03097\tvalid_1's multi_error: 0.468092\tvalid_1's multi_logloss: 1.08593\n",
      "[49]\tvalid_0's multi_error: 0.417769\tvalid_0's multi_logloss: 1.02832\tvalid_1's multi_error: 0.467782\tvalid_1's multi_logloss: 1.08462\n",
      "[50]\tvalid_0's multi_error: 0.416322\tvalid_0's multi_logloss: 1.02554\tvalid_1's multi_error: 0.468092\tvalid_1's multi_logloss: 1.08336\n",
      "[51]\tvalid_0's multi_error: 0.415496\tvalid_0's multi_logloss: 1.02297\tvalid_1's multi_error: 0.468092\tvalid_1's multi_logloss: 1.08205\n",
      "[52]\tvalid_0's multi_error: 0.413636\tvalid_0's multi_logloss: 1.02045\tvalid_1's multi_error: 0.468711\tvalid_1's multi_logloss: 1.08097\n",
      "[53]\tvalid_0's multi_error: 0.413017\tvalid_0's multi_logloss: 1.01785\tvalid_1's multi_error: 0.469331\tvalid_1's multi_logloss: 1.07953\n",
      "[54]\tvalid_0's multi_error: 0.412397\tvalid_0's multi_logloss: 1.01554\tvalid_1's multi_error: 0.469331\tvalid_1's multi_logloss: 1.07865\n",
      "[55]\tvalid_0's multi_error: 0.413223\tvalid_0's multi_logloss: 1.01345\tvalid_1's multi_error: 0.47026\tvalid_1's multi_logloss: 1.07755\n",
      "[56]\tvalid_0's multi_error: 0.414256\tvalid_0's multi_logloss: 1.01165\tvalid_1's multi_error: 0.468092\tvalid_1's multi_logloss: 1.07681\n",
      "[57]\tvalid_0's multi_error: 0.41405\tvalid_0's multi_logloss: 1.00937\tvalid_1's multi_error: 0.467162\tvalid_1's multi_logloss: 1.07542\n",
      "[58]\tvalid_0's multi_error: 0.412397\tvalid_0's multi_logloss: 1.00741\tvalid_1's multi_error: 0.469331\tvalid_1's multi_logloss: 1.07442\n",
      "[59]\tvalid_0's multi_error: 0.41157\tvalid_0's multi_logloss: 1.00566\tvalid_1's multi_error: 0.468092\tvalid_1's multi_logloss: 1.07367\n",
      "[60]\tvalid_0's multi_error: 0.41219\tvalid_0's multi_logloss: 1.00395\tvalid_1's multi_error: 0.468092\tvalid_1's multi_logloss: 1.07316\n",
      "[61]\tvalid_0's multi_error: 0.409504\tvalid_0's multi_logloss: 1.00208\tvalid_1's multi_error: 0.467782\tvalid_1's multi_logloss: 1.07225\n",
      "[62]\tvalid_0's multi_error: 0.407231\tvalid_0's multi_logloss: 1.00025\tvalid_1's multi_error: 0.468401\tvalid_1's multi_logloss: 1.0716\n",
      "[63]\tvalid_0's multi_error: 0.406612\tvalid_0's multi_logloss: 0.998346\tvalid_1's multi_error: 0.466233\tvalid_1's multi_logloss: 1.07068\n",
      "[64]\tvalid_0's multi_error: 0.406405\tvalid_0's multi_logloss: 0.996767\tvalid_1's multi_error: 0.466233\tvalid_1's multi_logloss: 1.07014\n",
      "[65]\tvalid_0's multi_error: 0.407231\tvalid_0's multi_logloss: 0.995046\tvalid_1's multi_error: 0.466543\tvalid_1's multi_logloss: 1.06931\n",
      "[66]\tvalid_0's multi_error: 0.406818\tvalid_0's multi_logloss: 0.993473\tvalid_1's multi_error: 0.465923\tvalid_1's multi_logloss: 1.06864\n",
      "[67]\tvalid_0's multi_error: 0.406612\tvalid_0's multi_logloss: 0.991694\tvalid_1's multi_error: 0.467472\tvalid_1's multi_logloss: 1.06814\n",
      "[68]\tvalid_0's multi_error: 0.405372\tvalid_0's multi_logloss: 0.989877\tvalid_1's multi_error: 0.467472\tvalid_1's multi_logloss: 1.06734\n",
      "[69]\tvalid_0's multi_error: 0.404545\tvalid_0's multi_logloss: 0.988202\tvalid_1's multi_error: 0.468401\tvalid_1's multi_logloss: 1.06674\n",
      "[70]\tvalid_0's multi_error: 0.403926\tvalid_0's multi_logloss: 0.986478\tvalid_1's multi_error: 0.467782\tvalid_1's multi_logloss: 1.06624\n",
      "[71]\tvalid_0's multi_error: 0.404339\tvalid_0's multi_logloss: 0.984725\tvalid_1's multi_error: 0.466853\tvalid_1's multi_logloss: 1.06567\n",
      "[72]\tvalid_0's multi_error: 0.403099\tvalid_0's multi_logloss: 0.983303\tvalid_1's multi_error: 0.468401\tvalid_1's multi_logloss: 1.06534\n",
      "[73]\tvalid_0's multi_error: 0.402273\tvalid_0's multi_logloss: 0.981718\tvalid_1's multi_error: 0.468092\tvalid_1's multi_logloss: 1.06472\n",
      "[74]\tvalid_0's multi_error: 0.402066\tvalid_0's multi_logloss: 0.980361\tvalid_1's multi_error: 0.467162\tvalid_1's multi_logloss: 1.06445\n",
      "[75]\tvalid_0's multi_error: 0.402066\tvalid_0's multi_logloss: 0.979141\tvalid_1's multi_error: 0.467472\tvalid_1's multi_logloss: 1.06406\n",
      "[76]\tvalid_0's multi_error: 0.403099\tvalid_0's multi_logloss: 0.977975\tvalid_1's multi_error: 0.466853\tvalid_1's multi_logloss: 1.06358\n",
      "[77]\tvalid_0's multi_error: 0.400826\tvalid_0's multi_logloss: 0.976563\tvalid_1's multi_error: 0.467162\tvalid_1's multi_logloss: 1.06328\n",
      "[78]\tvalid_0's multi_error: 0.401653\tvalid_0's multi_logloss: 0.975134\tvalid_1's multi_error: 0.466543\tvalid_1's multi_logloss: 1.06287\n",
      "[79]\tvalid_0's multi_error: 0.400207\tvalid_0's multi_logloss: 0.973833\tvalid_1's multi_error: 0.466233\tvalid_1's multi_logloss: 1.06228\n"
     ]
    },
    {
     "name": "stdout",
     "output_type": "stream",
     "text": [
      "[80]\tvalid_0's multi_error: 0.397934\tvalid_0's multi_logloss: 0.972228\tvalid_1's multi_error: 0.466853\tvalid_1's multi_logloss: 1.06181\n",
      "[81]\tvalid_0's multi_error: 0.399587\tvalid_0's multi_logloss: 0.970585\tvalid_1's multi_error: 0.465304\tvalid_1's multi_logloss: 1.06106\n",
      "[82]\tvalid_0's multi_error: 0.39938\tvalid_0's multi_logloss: 0.969288\tvalid_1's multi_error: 0.466233\tvalid_1's multi_logloss: 1.06079\n",
      "[83]\tvalid_0's multi_error: 0.399587\tvalid_0's multi_logloss: 0.968176\tvalid_1's multi_error: 0.466543\tvalid_1's multi_logloss: 1.06051\n",
      "[84]\tvalid_0's multi_error: 0.397521\tvalid_0's multi_logloss: 0.967042\tvalid_1's multi_error: 0.464994\tvalid_1's multi_logloss: 1.06025\n",
      "[85]\tvalid_0's multi_error: 0.397934\tvalid_0's multi_logloss: 0.965871\tvalid_1's multi_error: 0.464994\tvalid_1's multi_logloss: 1.05977\n",
      "[86]\tvalid_0's multi_error: 0.397314\tvalid_0's multi_logloss: 0.964853\tvalid_1's multi_error: 0.465304\tvalid_1's multi_logloss: 1.05954\n",
      "[87]\tvalid_0's multi_error: 0.396901\tvalid_0's multi_logloss: 0.963499\tvalid_1's multi_error: 0.464994\tvalid_1's multi_logloss: 1.05923\n",
      "[88]\tvalid_0's multi_error: 0.396901\tvalid_0's multi_logloss: 0.962057\tvalid_1's multi_error: 0.464684\tvalid_1's multi_logloss: 1.05902\n",
      "[89]\tvalid_0's multi_error: 0.396281\tvalid_0's multi_logloss: 0.961079\tvalid_1's multi_error: 0.465613\tvalid_1's multi_logloss: 1.05888\n",
      "[90]\tvalid_0's multi_error: 0.394835\tvalid_0's multi_logloss: 0.959958\tvalid_1's multi_error: 0.464994\tvalid_1's multi_logloss: 1.05861\n",
      "[91]\tvalid_0's multi_error: 0.394421\tvalid_0's multi_logloss: 0.958765\tvalid_1's multi_error: 0.465304\tvalid_1's multi_logloss: 1.05845\n",
      "[92]\tvalid_0's multi_error: 0.393802\tvalid_0's multi_logloss: 0.957792\tvalid_1's multi_error: 0.465923\tvalid_1's multi_logloss: 1.0583\n",
      "[93]\tvalid_0's multi_error: 0.392975\tvalid_0's multi_logloss: 0.956521\tvalid_1's multi_error: 0.464684\tvalid_1's multi_logloss: 1.05805\n",
      "[94]\tvalid_0's multi_error: 0.392562\tvalid_0's multi_logloss: 0.955198\tvalid_1's multi_error: 0.465613\tvalid_1's multi_logloss: 1.0579\n",
      "[95]\tvalid_0's multi_error: 0.392149\tvalid_0's multi_logloss: 0.954323\tvalid_1's multi_error: 0.465304\tvalid_1's multi_logloss: 1.05783\n",
      "[96]\tvalid_0's multi_error: 0.390909\tvalid_0's multi_logloss: 0.953032\tvalid_1's multi_error: 0.464994\tvalid_1's multi_logloss: 1.05777\n",
      "[97]\tvalid_0's multi_error: 0.390289\tvalid_0's multi_logloss: 0.951659\tvalid_1's multi_error: 0.464374\tvalid_1's multi_logloss: 1.05759\n",
      "[98]\tvalid_0's multi_error: 0.389876\tvalid_0's multi_logloss: 0.950568\tvalid_1's multi_error: 0.464064\tvalid_1's multi_logloss: 1.0574\n",
      "[99]\tvalid_0's multi_error: 0.389256\tvalid_0's multi_logloss: 0.949568\tvalid_1's multi_error: 0.464064\tvalid_1's multi_logloss: 1.05731\n",
      "[100]\tvalid_0's multi_error: 0.38843\tvalid_0's multi_logloss: 0.94846\tvalid_1's multi_error: 0.463445\tvalid_1's multi_logloss: 1.05722\n",
      "[101]\tvalid_0's multi_error: 0.386777\tvalid_0's multi_logloss: 0.947536\tvalid_1's multi_error: 0.463445\tvalid_1's multi_logloss: 1.05706\n",
      "[102]\tvalid_0's multi_error: 0.38657\tvalid_0's multi_logloss: 0.946655\tvalid_1's multi_error: 0.462825\tvalid_1's multi_logloss: 1.05695\n",
      "[103]\tvalid_0's multi_error: 0.386157\tvalid_0's multi_logloss: 0.945571\tvalid_1's multi_error: 0.463135\tvalid_1's multi_logloss: 1.05689\n",
      "[104]\tvalid_0's multi_error: 0.38595\tvalid_0's multi_logloss: 0.944506\tvalid_1's multi_error: 0.463135\tvalid_1's multi_logloss: 1.05674\n",
      "[105]\tvalid_0's multi_error: 0.38657\tvalid_0's multi_logloss: 0.94357\tvalid_1's multi_error: 0.463445\tvalid_1's multi_logloss: 1.05659\n",
      "[106]\tvalid_0's multi_error: 0.387603\tvalid_0's multi_logloss: 0.942562\tvalid_1's multi_error: 0.464994\tvalid_1's multi_logloss: 1.05639\n",
      "[107]\tvalid_0's multi_error: 0.387603\tvalid_0's multi_logloss: 0.941853\tvalid_1's multi_error: 0.464684\tvalid_1's multi_logloss: 1.05643\n",
      "[108]\tvalid_0's multi_error: 0.38595\tvalid_0's multi_logloss: 0.940818\tvalid_1's multi_error: 0.463135\tvalid_1's multi_logloss: 1.05631\n",
      "[109]\tvalid_0's multi_error: 0.385537\tvalid_0's multi_logloss: 0.939665\tvalid_1's multi_error: 0.464064\tvalid_1's multi_logloss: 1.05611\n",
      "[110]\tvalid_0's multi_error: 0.384504\tvalid_0's multi_logloss: 0.938885\tvalid_1's multi_error: 0.464684\tvalid_1's multi_logloss: 1.05613\n",
      "[111]\tvalid_0's multi_error: 0.384298\tvalid_0's multi_logloss: 0.937911\tvalid_1's multi_error: 0.464994\tvalid_1's multi_logloss: 1.05604\n",
      "[112]\tvalid_0's multi_error: 0.384091\tvalid_0's multi_logloss: 0.936863\tvalid_1's multi_error: 0.464684\tvalid_1's multi_logloss: 1.05606\n",
      "[113]\tvalid_0's multi_error: 0.383471\tvalid_0's multi_logloss: 0.935876\tvalid_1's multi_error: 0.464684\tvalid_1's multi_logloss: 1.05612\n",
      "[114]\tvalid_0's multi_error: 0.383058\tvalid_0's multi_logloss: 0.934937\tvalid_1's multi_error: 0.464684\tvalid_1's multi_logloss: 1.05609\n",
      "[115]\tvalid_0's multi_error: 0.382231\tvalid_0's multi_logloss: 0.933825\tvalid_1's multi_error: 0.465613\tvalid_1's multi_logloss: 1.05588\n",
      "[116]\tvalid_0's multi_error: 0.382645\tvalid_0's multi_logloss: 0.933016\tvalid_1's multi_error: 0.465613\tvalid_1's multi_logloss: 1.05578\n",
      "[117]\tvalid_0's multi_error: 0.382025\tvalid_0's multi_logloss: 0.932092\tvalid_1's multi_error: 0.465613\tvalid_1's multi_logloss: 1.05586\n",
      "[118]\tvalid_0's multi_error: 0.382645\tvalid_0's multi_logloss: 0.93138\tvalid_1's multi_error: 0.465304\tvalid_1's multi_logloss: 1.05581\n",
      "[119]\tvalid_0's multi_error: 0.381818\tvalid_0's multi_logloss: 0.930294\tvalid_1's multi_error: 0.465304\tvalid_1's multi_logloss: 1.05591\n",
      "[120]\tvalid_0's multi_error: 0.380785\tvalid_0's multi_logloss: 0.929327\tvalid_1's multi_error: 0.466233\tvalid_1's multi_logloss: 1.05598\n",
      "[121]\tvalid_0's multi_error: 0.381198\tvalid_0's multi_logloss: 0.928277\tvalid_1's multi_error: 0.466233\tvalid_1's multi_logloss: 1.05596\n",
      "[122]\tvalid_0's multi_error: 0.379545\tvalid_0's multi_logloss: 0.927658\tvalid_1's multi_error: 0.466853\tvalid_1's multi_logloss: 1.05602\n",
      "[123]\tvalid_0's multi_error: 0.379132\tvalid_0's multi_logloss: 0.926761\tvalid_1's multi_error: 0.467162\tvalid_1's multi_logloss: 1.05602\n",
      "[124]\tvalid_0's multi_error: 0.378512\tvalid_0's multi_logloss: 0.925871\tvalid_1's multi_error: 0.467782\tvalid_1's multi_logloss: 1.0561\n",
      "[125]\tvalid_0's multi_error: 0.378512\tvalid_0's multi_logloss: 0.924934\tvalid_1's multi_error: 0.468401\tvalid_1's multi_logloss: 1.05616\n",
      "[126]\tvalid_0's multi_error: 0.377686\tvalid_0's multi_logloss: 0.924194\tvalid_1's multi_error: 0.468711\tvalid_1's multi_logloss: 1.05617\n",
      "[127]\tvalid_0's multi_error: 0.377066\tvalid_0's multi_logloss: 0.92323\tvalid_1's multi_error: 0.469331\tvalid_1's multi_logloss: 1.05625\n",
      "[128]\tvalid_0's multi_error: 0.377066\tvalid_0's multi_logloss: 0.922388\tvalid_1's multi_error: 0.468711\tvalid_1's multi_logloss: 1.05625\n",
      "[129]\tvalid_0's multi_error: 0.375413\tvalid_0's multi_logloss: 0.921608\tvalid_1's multi_error: 0.468401\tvalid_1's multi_logloss: 1.05622\n",
      "[130]\tvalid_0's multi_error: 0.374793\tvalid_0's multi_logloss: 0.920663\tvalid_1's multi_error: 0.469021\tvalid_1's multi_logloss: 1.05635\n",
      "[131]\tvalid_0's multi_error: 0.375413\tvalid_0's multi_logloss: 0.91978\tvalid_1's multi_error: 0.468711\tvalid_1's multi_logloss: 1.05636\n",
      "[132]\tvalid_0's multi_error: 0.373347\tvalid_0's multi_logloss: 0.91884\tvalid_1's multi_error: 0.467782\tvalid_1's multi_logloss: 1.05646\n",
      "[133]\tvalid_0's multi_error: 0.372934\tvalid_0's multi_logloss: 0.918141\tvalid_1's multi_error: 0.466853\tvalid_1's multi_logloss: 1.05634\n",
      "[134]\tvalid_0's multi_error: 0.372934\tvalid_0's multi_logloss: 0.917363\tvalid_1's multi_error: 0.466233\tvalid_1's multi_logloss: 1.05623\n",
      "[135]\tvalid_0's multi_error: 0.371901\tvalid_0's multi_logloss: 0.916411\tvalid_1's multi_error: 0.467162\tvalid_1's multi_logloss: 1.05632\n",
      "[136]\tvalid_0's multi_error: 0.371901\tvalid_0's multi_logloss: 0.915435\tvalid_1's multi_error: 0.467472\tvalid_1's multi_logloss: 1.05651\n",
      "[137]\tvalid_0's multi_error: 0.372934\tvalid_0's multi_logloss: 0.914568\tvalid_1's multi_error: 0.467782\tvalid_1's multi_logloss: 1.05652\n",
      "[138]\tvalid_0's multi_error: 0.372107\tvalid_0's multi_logloss: 0.913846\tvalid_1's multi_error: 0.467782\tvalid_1's multi_logloss: 1.0566\n",
      "[139]\tvalid_0's multi_error: 0.372107\tvalid_0's multi_logloss: 0.912968\tvalid_1's multi_error: 0.465923\tvalid_1's multi_logloss: 1.05672\n",
      "[140]\tvalid_0's multi_error: 0.371074\tvalid_0's multi_logloss: 0.912202\tvalid_1's multi_error: 0.466543\tvalid_1's multi_logloss: 1.05685\n",
      "[141]\tvalid_0's multi_error: 0.370248\tvalid_0's multi_logloss: 0.911556\tvalid_1's multi_error: 0.466543\tvalid_1's multi_logloss: 1.05688\n",
      "[142]\tvalid_0's multi_error: 0.368595\tvalid_0's multi_logloss: 0.910673\tvalid_1's multi_error: 0.466543\tvalid_1's multi_logloss: 1.05693\n",
      "[143]\tvalid_0's multi_error: 0.368802\tvalid_0's multi_logloss: 0.909894\tvalid_1's multi_error: 0.466853\tvalid_1's multi_logloss: 1.05697\n"
     ]
    },
    {
     "name": "stdout",
     "output_type": "stream",
     "text": [
      "[144]\tvalid_0's multi_error: 0.368802\tvalid_0's multi_logloss: 0.908967\tvalid_1's multi_error: 0.466543\tvalid_1's multi_logloss: 1.05693\n",
      "[145]\tvalid_0's multi_error: 0.367769\tvalid_0's multi_logloss: 0.908266\tvalid_1's multi_error: 0.467162\tvalid_1's multi_logloss: 1.05695\n",
      "[146]\tvalid_0's multi_error: 0.368182\tvalid_0's multi_logloss: 0.907381\tvalid_1's multi_error: 0.467472\tvalid_1's multi_logloss: 1.05699\n",
      "[147]\tvalid_0's multi_error: 0.366529\tvalid_0's multi_logloss: 0.906464\tvalid_1's multi_error: 0.466543\tvalid_1's multi_logloss: 1.05704\n",
      "[148]\tvalid_0's multi_error: 0.366116\tvalid_0's multi_logloss: 0.905611\tvalid_1's multi_error: 0.466853\tvalid_1's multi_logloss: 1.0571\n",
      "[149]\tvalid_0's multi_error: 0.365496\tvalid_0's multi_logloss: 0.905069\tvalid_1's multi_error: 0.467472\tvalid_1's multi_logloss: 1.05708\n",
      "[150]\tvalid_0's multi_error: 0.365909\tvalid_0's multi_logloss: 0.904388\tvalid_1's multi_error: 0.466853\tvalid_1's multi_logloss: 1.05713\n",
      "[151]\tvalid_0's multi_error: 0.365909\tvalid_0's multi_logloss: 0.903555\tvalid_1's multi_error: 0.466853\tvalid_1's multi_logloss: 1.05727\n",
      "[152]\tvalid_0's multi_error: 0.365702\tvalid_0's multi_logloss: 0.902761\tvalid_1's multi_error: 0.468092\tvalid_1's multi_logloss: 1.05712\n",
      "[153]\tvalid_0's multi_error: 0.365496\tvalid_0's multi_logloss: 0.902105\tvalid_1's multi_error: 0.467472\tvalid_1's multi_logloss: 1.05722\n",
      "[154]\tvalid_0's multi_error: 0.365496\tvalid_0's multi_logloss: 0.901456\tvalid_1's multi_error: 0.467162\tvalid_1's multi_logloss: 1.05725\n",
      "[155]\tvalid_0's multi_error: 0.366116\tvalid_0's multi_logloss: 0.900722\tvalid_1's multi_error: 0.466853\tvalid_1's multi_logloss: 1.05722\n",
      "[156]\tvalid_0's multi_error: 0.366322\tvalid_0's multi_logloss: 0.899896\tvalid_1's multi_error: 0.466853\tvalid_1's multi_logloss: 1.05725\n",
      "[157]\tvalid_0's multi_error: 0.365496\tvalid_0's multi_logloss: 0.899084\tvalid_1's multi_error: 0.465613\tvalid_1's multi_logloss: 1.05721\n",
      "[158]\tvalid_0's multi_error: 0.365083\tvalid_0's multi_logloss: 0.898159\tvalid_1's multi_error: 0.466853\tvalid_1's multi_logloss: 1.05734\n",
      "[159]\tvalid_0's multi_error: 0.365083\tvalid_0's multi_logloss: 0.897433\tvalid_1's multi_error: 0.466233\tvalid_1's multi_logloss: 1.05745\n",
      "[160]\tvalid_0's multi_error: 0.36405\tvalid_0's multi_logloss: 0.896622\tvalid_1's multi_error: 0.467162\tvalid_1's multi_logloss: 1.05746\n",
      "[161]\tvalid_0's multi_error: 0.36405\tvalid_0's multi_logloss: 0.895938\tvalid_1's multi_error: 0.467162\tvalid_1's multi_logloss: 1.05753\n",
      "[162]\tvalid_0's multi_error: 0.363843\tvalid_0's multi_logloss: 0.895185\tvalid_1's multi_error: 0.466543\tvalid_1's multi_logloss: 1.05771\n",
      "[163]\tvalid_0's multi_error: 0.36405\tvalid_0's multi_logloss: 0.894321\tvalid_1's multi_error: 0.467472\tvalid_1's multi_logloss: 1.05757\n",
      "[164]\tvalid_0's multi_error: 0.363636\tvalid_0's multi_logloss: 0.893562\tvalid_1's multi_error: 0.466853\tvalid_1's multi_logloss: 1.05784\n",
      "[165]\tvalid_0's multi_error: 0.36219\tvalid_0's multi_logloss: 0.892682\tvalid_1's multi_error: 0.467162\tvalid_1's multi_logloss: 1.05787\n",
      "[166]\tvalid_0's multi_error: 0.362397\tvalid_0's multi_logloss: 0.891954\tvalid_1's multi_error: 0.467782\tvalid_1's multi_logloss: 1.05787\n",
      "[167]\tvalid_0's multi_error: 0.361364\tvalid_0's multi_logloss: 0.891213\tvalid_1's multi_error: 0.466233\tvalid_1's multi_logloss: 1.05792\n",
      "[168]\tvalid_0's multi_error: 0.359711\tvalid_0's multi_logloss: 0.890439\tvalid_1's multi_error: 0.467162\tvalid_1's multi_logloss: 1.05792\n",
      "[169]\tvalid_0's multi_error: 0.359711\tvalid_0's multi_logloss: 0.889697\tvalid_1's multi_error: 0.466543\tvalid_1's multi_logloss: 1.05798\n",
      "[170]\tvalid_0's multi_error: 0.359298\tvalid_0's multi_logloss: 0.889045\tvalid_1's multi_error: 0.466233\tvalid_1's multi_logloss: 1.05801\n",
      "[171]\tvalid_0's multi_error: 0.360124\tvalid_0's multi_logloss: 0.888482\tvalid_1's multi_error: 0.466853\tvalid_1's multi_logloss: 1.05819\n",
      "[172]\tvalid_0's multi_error: 0.359917\tvalid_0's multi_logloss: 0.887676\tvalid_1's multi_error: 0.467162\tvalid_1's multi_logloss: 1.05813\n",
      "[173]\tvalid_0's multi_error: 0.358884\tvalid_0's multi_logloss: 0.886938\tvalid_1's multi_error: 0.468092\tvalid_1's multi_logloss: 1.05818\n",
      "[174]\tvalid_0's multi_error: 0.358884\tvalid_0's multi_logloss: 0.886112\tvalid_1's multi_error: 0.468401\tvalid_1's multi_logloss: 1.05819\n",
      "[175]\tvalid_0's multi_error: 0.359917\tvalid_0's multi_logloss: 0.885296\tvalid_1's multi_error: 0.468401\tvalid_1's multi_logloss: 1.05832\n",
      "[176]\tvalid_0's multi_error: 0.359711\tvalid_0's multi_logloss: 0.884398\tvalid_1's multi_error: 0.469641\tvalid_1's multi_logloss: 1.05837\n",
      "[177]\tvalid_0's multi_error: 0.358678\tvalid_0's multi_logloss: 0.883623\tvalid_1's multi_error: 0.469641\tvalid_1's multi_logloss: 1.05839\n",
      "[178]\tvalid_0's multi_error: 0.358884\tvalid_0's multi_logloss: 0.882997\tvalid_1's multi_error: 0.469331\tvalid_1's multi_logloss: 1.05853\n",
      "[179]\tvalid_0's multi_error: 0.358471\tvalid_0's multi_logloss: 0.882236\tvalid_1's multi_error: 0.468711\tvalid_1's multi_logloss: 1.05857\n",
      "[180]\tvalid_0's multi_error: 0.357851\tvalid_0's multi_logloss: 0.8816\tvalid_1's multi_error: 0.47057\tvalid_1's multi_logloss: 1.05861\n",
      "[181]\tvalid_0's multi_error: 0.357025\tvalid_0's multi_logloss: 0.880908\tvalid_1's multi_error: 0.47057\tvalid_1's multi_logloss: 1.05862\n",
      "[182]\tvalid_0's multi_error: 0.357851\tvalid_0's multi_logloss: 0.880238\tvalid_1's multi_error: 0.468711\tvalid_1's multi_logloss: 1.05868\n",
      "[183]\tvalid_0's multi_error: 0.357231\tvalid_0's multi_logloss: 0.879428\tvalid_1's multi_error: 0.469021\tvalid_1's multi_logloss: 1.05886\n",
      "[184]\tvalid_0's multi_error: 0.356612\tvalid_0's multi_logloss: 0.878742\tvalid_1's multi_error: 0.466853\tvalid_1's multi_logloss: 1.05892\n",
      "[185]\tvalid_0's multi_error: 0.357025\tvalid_0's multi_logloss: 0.878213\tvalid_1's multi_error: 0.467782\tvalid_1's multi_logloss: 1.05897\n",
      "[186]\tvalid_0's multi_error: 0.357438\tvalid_0's multi_logloss: 0.877621\tvalid_1's multi_error: 0.468711\tvalid_1's multi_logloss: 1.059\n",
      "[187]\tvalid_0's multi_error: 0.355992\tvalid_0's multi_logloss: 0.876914\tvalid_1's multi_error: 0.469021\tvalid_1's multi_logloss: 1.05906\n",
      "[188]\tvalid_0's multi_error: 0.355785\tvalid_0's multi_logloss: 0.876006\tvalid_1's multi_error: 0.469021\tvalid_1's multi_logloss: 1.05919\n",
      "[189]\tvalid_0's multi_error: 0.354339\tvalid_0's multi_logloss: 0.875397\tvalid_1's multi_error: 0.468401\tvalid_1's multi_logloss: 1.0593\n",
      "[190]\tvalid_0's multi_error: 0.353719\tvalid_0's multi_logloss: 0.874893\tvalid_1's multi_error: 0.468401\tvalid_1's multi_logloss: 1.05944\n",
      "[191]\tvalid_0's multi_error: 0.353719\tvalid_0's multi_logloss: 0.874354\tvalid_1's multi_error: 0.468401\tvalid_1's multi_logloss: 1.05951\n",
      "[192]\tvalid_0's multi_error: 0.354132\tvalid_0's multi_logloss: 0.873771\tvalid_1's multi_error: 0.469641\tvalid_1's multi_logloss: 1.05955\n",
      "[193]\tvalid_0's multi_error: 0.353099\tvalid_0's multi_logloss: 0.873043\tvalid_1's multi_error: 0.469641\tvalid_1's multi_logloss: 1.05962\n",
      "[194]\tvalid_0's multi_error: 0.352273\tvalid_0's multi_logloss: 0.872371\tvalid_1's multi_error: 0.469021\tvalid_1's multi_logloss: 1.05968\n",
      "[195]\tvalid_0's multi_error: 0.352273\tvalid_0's multi_logloss: 0.871823\tvalid_1's multi_error: 0.469331\tvalid_1's multi_logloss: 1.05979\n",
      "[196]\tvalid_0's multi_error: 0.352273\tvalid_0's multi_logloss: 0.871144\tvalid_1's multi_error: 0.469641\tvalid_1's multi_logloss: 1.05992\n",
      "[197]\tvalid_0's multi_error: 0.349793\tvalid_0's multi_logloss: 0.870596\tvalid_1's multi_error: 0.47057\tvalid_1's multi_logloss: 1.06\n",
      "[198]\tvalid_0's multi_error: 0.35062\tvalid_0's multi_logloss: 0.869957\tvalid_1's multi_error: 0.47026\tvalid_1's multi_logloss: 1.0601\n",
      "[199]\tvalid_0's multi_error: 0.35\tvalid_0's multi_logloss: 0.869289\tvalid_1's multi_error: 0.472119\tvalid_1's multi_logloss: 1.06026\n",
      "[200]\tvalid_0's multi_error: 0.349174\tvalid_0's multi_logloss: 0.868653\tvalid_1's multi_error: 0.472119\tvalid_1's multi_logloss: 1.06032\n",
      "[201]\tvalid_0's multi_error: 0.348347\tvalid_0's multi_logloss: 0.868185\tvalid_1's multi_error: 0.472429\tvalid_1's multi_logloss: 1.06036\n",
      "[202]\tvalid_0's multi_error: 0.347934\tvalid_0's multi_logloss: 0.867538\tvalid_1's multi_error: 0.472739\tvalid_1's multi_logloss: 1.06041\n",
      "Early stopping, best iteration is:\n",
      "[102]\tvalid_0's multi_error: 0.38657\tvalid_0's multi_logloss: 0.946655\tvalid_1's multi_error: 0.462825\tvalid_1's multi_logloss: 1.05695\n",
      "Eval ACC: 0.5371747211895911\n"
     ]
    }
   ],
   "source": [
    "clf = lgb.LGBMClassifier(**params)\n",
    "    \n",
    "clf.fit(df_train[feature_cols], df_train[label_col], early_stopping_rounds=100, eval_set=[(df_train[feature_cols], df_train[label_col]), (df_eval[feature_cols], df_eval[label_col])], eval_metric='multi_error', verbose=True, categorical_feature=cat_cols)\n",
    "\n",
    "eval_score = accuracy_score(df_eval[label_col], clf.predict(df_eval[feature_cols]))\n",
    "\n",
    "print('Eval ACC: {}'.format(eval_score))"
   ]
  },
  {
   "cell_type": "code",
   "execution_count": 66,
   "metadata": {},
   "outputs": [],
   "source": [
    "test=all[all['train_y_n']==0]\n",
    "train=all[all['train_y_n']==1]"
   ]
  },
  {
   "cell_type": "code",
   "execution_count": 67,
   "metadata": {},
   "outputs": [],
   "source": [
    "#Since there is big overlap between test and train, using train data for all the overlapping IDs\n",
    "sub=pd.merge(left=test['ID'],right=train[['ID','Segmentation']],how='left',on='ID')"
   ]
  },
  {
   "cell_type": "code",
   "execution_count": 68,
   "metadata": {},
   "outputs": [],
   "source": [
    "actual_test=(test[test['ID'].isin(train['ID'])==False])"
   ]
  },
  {
   "cell_type": "code",
   "execution_count": 69,
   "metadata": {},
   "outputs": [
    {
     "data": {
      "text/plain": [
       "(295, 12)"
      ]
     },
     "execution_count": 69,
     "metadata": {},
     "output_type": "execute_result"
    }
   ],
   "source": [
    "actual_test.shape"
   ]
  },
  {
   "cell_type": "code",
   "execution_count": 70,
   "metadata": {},
   "outputs": [],
   "source": [
    "pred=clf.predict(actual_test[feature_cols])\n",
    "\n"
   ]
  },
  {
   "cell_type": "code",
   "execution_count": 71,
   "metadata": {},
   "outputs": [],
   "source": [
    "pred=le.inverse_transform(pred)\n",
    "actual_test['Segmentation']=pred"
   ]
  },
  {
   "cell_type": "code",
   "execution_count": 72,
   "metadata": {},
   "outputs": [],
   "source": [
    "\n",
    "l=actual_test[['ID','Segmentation']]\n",
    "r=sub[sub['Segmentation'].isnull()==False]\n",
    "fr=[l,r]\n",
    "sub=pd.concat(fr)"
   ]
  },
  {
   "cell_type": "code",
   "execution_count": 73,
   "metadata": {},
   "outputs": [],
   "source": [
    "sub[['ID','Segmentation']].to_csv('submission.csv',index = False)"
   ]
  },
  {
   "cell_type": "code",
   "execution_count": null,
   "metadata": {},
   "outputs": [],
   "source": []
  }
 ],
 "metadata": {
  "kernelspec": {
   "display_name": "Python 3",
   "language": "python",
   "name": "python3"
  },
  "language_info": {
   "codemirror_mode": {
    "name": "ipython",
    "version": 3
   },
   "file_extension": ".py",
   "mimetype": "text/x-python",
   "name": "python",
   "nbconvert_exporter": "python",
   "pygments_lexer": "ipython3",
   "version": "3.7.1"
  }
 },
 "nbformat": 4,
 "nbformat_minor": 2
}
